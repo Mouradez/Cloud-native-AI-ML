{
 "cells": [
  {
   "cell_type": "code",
   "execution_count": 1,
   "id": "f699fe56-4482-4458-8d2d-217ba77a6b41",
   "metadata": {
    "tags": []
   },
   "outputs": [
    {
     "name": "stderr",
     "output_type": "stream",
     "text": [
      "/home/ec2-user/anaconda3/envs/python3/lib/python3.10/site-packages/pandas/core/computation/expressions.py:21: UserWarning: Pandas requires version '2.8.0' or newer of 'numexpr' (version '2.7.3' currently installed).\n",
      "  from pandas.core.computation.check import NUMEXPR_INSTALLED\n"
     ]
    },
    {
     "name": "stdout",
     "output_type": "stream",
     "text": [
      "sagemaker.config INFO - Not applying SDK defaults from location: /etc/xdg/sagemaker/config.yaml\n",
      "sagemaker.config INFO - Not applying SDK defaults from location: /home/ec2-user/.config/sagemaker/config.yaml\n"
     ]
    }
   ],
   "source": [
    "import pandas as pd\n",
    "import numpy as np\n",
    "from sklearn.model_selection import train_test_split\n",
    "import sagemaker"
   ]
  },
  {
   "cell_type": "code",
   "execution_count": 2,
   "id": "101dba2f-2f1e-4e40-9e81-d2a1b04f25ce",
   "metadata": {
    "tags": []
   },
   "outputs": [
    {
     "data": {
      "text/html": [
       "<div>\n",
       "<style scoped>\n",
       "    .dataframe tbody tr th:only-of-type {\n",
       "        vertical-align: middle;\n",
       "    }\n",
       "\n",
       "    .dataframe tbody tr th {\n",
       "        vertical-align: top;\n",
       "    }\n",
       "\n",
       "    .dataframe thead th {\n",
       "        text-align: right;\n",
       "    }\n",
       "</style>\n",
       "<table border=\"1\" class=\"dataframe\">\n",
       "  <thead>\n",
       "    <tr style=\"text-align: right;\">\n",
       "      <th></th>\n",
       "      <th>crim</th>\n",
       "      <th>zn</th>\n",
       "      <th>indus</th>\n",
       "      <th>chas</th>\n",
       "      <th>nox</th>\n",
       "      <th>age</th>\n",
       "      <th>rm</th>\n",
       "      <th>dis</th>\n",
       "      <th>rad</th>\n",
       "      <th>tax</th>\n",
       "      <th>ptratio</th>\n",
       "      <th>lstat</th>\n",
       "      <th>medv</th>\n",
       "    </tr>\n",
       "  </thead>\n",
       "  <tbody>\n",
       "    <tr>\n",
       "      <th>0</th>\n",
       "      <td>0.00632</td>\n",
       "      <td>18.0</td>\n",
       "      <td>2.31</td>\n",
       "      <td>0</td>\n",
       "      <td>0.538</td>\n",
       "      <td>6.575</td>\n",
       "      <td>65.2</td>\n",
       "      <td>4.0900</td>\n",
       "      <td>1</td>\n",
       "      <td>296.0</td>\n",
       "      <td>15.3</td>\n",
       "      <td>4.98</td>\n",
       "      <td>24.0</td>\n",
       "    </tr>\n",
       "    <tr>\n",
       "      <th>1</th>\n",
       "      <td>0.02731</td>\n",
       "      <td>0.0</td>\n",
       "      <td>7.07</td>\n",
       "      <td>0</td>\n",
       "      <td>0.469</td>\n",
       "      <td>6.421</td>\n",
       "      <td>78.9</td>\n",
       "      <td>4.9671</td>\n",
       "      <td>2</td>\n",
       "      <td>242.0</td>\n",
       "      <td>17.8</td>\n",
       "      <td>9.14</td>\n",
       "      <td>21.6</td>\n",
       "    </tr>\n",
       "    <tr>\n",
       "      <th>2</th>\n",
       "      <td>0.02729</td>\n",
       "      <td>0.0</td>\n",
       "      <td>7.07</td>\n",
       "      <td>0</td>\n",
       "      <td>0.469</td>\n",
       "      <td>7.185</td>\n",
       "      <td>61.1</td>\n",
       "      <td>4.9671</td>\n",
       "      <td>2</td>\n",
       "      <td>242.0</td>\n",
       "      <td>17.8</td>\n",
       "      <td>4.03</td>\n",
       "      <td>34.7</td>\n",
       "    </tr>\n",
       "    <tr>\n",
       "      <th>3</th>\n",
       "      <td>0.03237</td>\n",
       "      <td>0.0</td>\n",
       "      <td>2.18</td>\n",
       "      <td>0</td>\n",
       "      <td>0.458</td>\n",
       "      <td>6.998</td>\n",
       "      <td>45.8</td>\n",
       "      <td>6.0622</td>\n",
       "      <td>3</td>\n",
       "      <td>222.0</td>\n",
       "      <td>18.7</td>\n",
       "      <td>2.94</td>\n",
       "      <td>33.4</td>\n",
       "    </tr>\n",
       "    <tr>\n",
       "      <th>4</th>\n",
       "      <td>0.06905</td>\n",
       "      <td>0.0</td>\n",
       "      <td>2.18</td>\n",
       "      <td>0</td>\n",
       "      <td>0.458</td>\n",
       "      <td>7.147</td>\n",
       "      <td>54.2</td>\n",
       "      <td>6.0622</td>\n",
       "      <td>3</td>\n",
       "      <td>222.0</td>\n",
       "      <td>18.7</td>\n",
       "      <td>5.33</td>\n",
       "      <td>36.2</td>\n",
       "    </tr>\n",
       "  </tbody>\n",
       "</table>\n",
       "</div>"
      ],
      "text/plain": [
       "      crim    zn  indus  chas    nox    age    rm     dis  rad    tax  \\\n",
       "0  0.00632  18.0   2.31     0  0.538  6.575  65.2  4.0900    1  296.0   \n",
       "1  0.02731   0.0   7.07     0  0.469  6.421  78.9  4.9671    2  242.0   \n",
       "2  0.02729   0.0   7.07     0  0.469  7.185  61.1  4.9671    2  242.0   \n",
       "3  0.03237   0.0   2.18     0  0.458  6.998  45.8  6.0622    3  222.0   \n",
       "4  0.06905   0.0   2.18     0  0.458  7.147  54.2  6.0622    3  222.0   \n",
       "\n",
       "   ptratio  lstat  medv  \n",
       "0     15.3   4.98  24.0  \n",
       "1     17.8   9.14  21.6  \n",
       "2     17.8   4.03  34.7  \n",
       "3     18.7   2.94  33.4  \n",
       "4     18.7   5.33  36.2  "
      ]
     },
     "execution_count": 2,
     "metadata": {},
     "output_type": "execute_result"
    }
   ],
   "source": [
    "df = pd.read_csv('housing.csv')\n",
    "df.head()"
   ]
  },
  {
   "cell_type": "code",
   "execution_count": 4,
   "id": "31c3f6f7-7220-4196-99da-f6e88c7007a1",
   "metadata": {
    "tags": []
   },
   "outputs": [],
   "source": [
    "dataset = pd.concat([df['medv'], df.drop(['medv'], axis=1)], axis=1)"
   ]
  },
  {
   "cell_type": "code",
   "execution_count": 6,
   "id": "b6f5aef8-e2e9-4f94-a4c2-c0172ce2f30f",
   "metadata": {
    "tags": []
   },
   "outputs": [
    {
     "data": {
      "text/html": [
       "<div>\n",
       "<style scoped>\n",
       "    .dataframe tbody tr th:only-of-type {\n",
       "        vertical-align: middle;\n",
       "    }\n",
       "\n",
       "    .dataframe tbody tr th {\n",
       "        vertical-align: top;\n",
       "    }\n",
       "\n",
       "    .dataframe thead th {\n",
       "        text-align: right;\n",
       "    }\n",
       "</style>\n",
       "<table border=\"1\" class=\"dataframe\">\n",
       "  <thead>\n",
       "    <tr style=\"text-align: right;\">\n",
       "      <th></th>\n",
       "      <th>medv</th>\n",
       "      <th>crim</th>\n",
       "      <th>zn</th>\n",
       "      <th>indus</th>\n",
       "      <th>chas</th>\n",
       "      <th>nox</th>\n",
       "      <th>age</th>\n",
       "      <th>rm</th>\n",
       "      <th>dis</th>\n",
       "      <th>rad</th>\n",
       "      <th>tax</th>\n",
       "      <th>ptratio</th>\n",
       "      <th>lstat</th>\n",
       "    </tr>\n",
       "  </thead>\n",
       "  <tbody>\n",
       "    <tr>\n",
       "      <th>0</th>\n",
       "      <td>24.0</td>\n",
       "      <td>0.00632</td>\n",
       "      <td>18.0</td>\n",
       "      <td>2.31</td>\n",
       "      <td>0</td>\n",
       "      <td>0.538</td>\n",
       "      <td>6.575</td>\n",
       "      <td>65.2</td>\n",
       "      <td>4.0900</td>\n",
       "      <td>1</td>\n",
       "      <td>296.0</td>\n",
       "      <td>15.3</td>\n",
       "      <td>4.98</td>\n",
       "    </tr>\n",
       "    <tr>\n",
       "      <th>1</th>\n",
       "      <td>21.6</td>\n",
       "      <td>0.02731</td>\n",
       "      <td>0.0</td>\n",
       "      <td>7.07</td>\n",
       "      <td>0</td>\n",
       "      <td>0.469</td>\n",
       "      <td>6.421</td>\n",
       "      <td>78.9</td>\n",
       "      <td>4.9671</td>\n",
       "      <td>2</td>\n",
       "      <td>242.0</td>\n",
       "      <td>17.8</td>\n",
       "      <td>9.14</td>\n",
       "    </tr>\n",
       "    <tr>\n",
       "      <th>2</th>\n",
       "      <td>34.7</td>\n",
       "      <td>0.02729</td>\n",
       "      <td>0.0</td>\n",
       "      <td>7.07</td>\n",
       "      <td>0</td>\n",
       "      <td>0.469</td>\n",
       "      <td>7.185</td>\n",
       "      <td>61.1</td>\n",
       "      <td>4.9671</td>\n",
       "      <td>2</td>\n",
       "      <td>242.0</td>\n",
       "      <td>17.8</td>\n",
       "      <td>4.03</td>\n",
       "    </tr>\n",
       "    <tr>\n",
       "      <th>3</th>\n",
       "      <td>33.4</td>\n",
       "      <td>0.03237</td>\n",
       "      <td>0.0</td>\n",
       "      <td>2.18</td>\n",
       "      <td>0</td>\n",
       "      <td>0.458</td>\n",
       "      <td>6.998</td>\n",
       "      <td>45.8</td>\n",
       "      <td>6.0622</td>\n",
       "      <td>3</td>\n",
       "      <td>222.0</td>\n",
       "      <td>18.7</td>\n",
       "      <td>2.94</td>\n",
       "    </tr>\n",
       "    <tr>\n",
       "      <th>4</th>\n",
       "      <td>36.2</td>\n",
       "      <td>0.06905</td>\n",
       "      <td>0.0</td>\n",
       "      <td>2.18</td>\n",
       "      <td>0</td>\n",
       "      <td>0.458</td>\n",
       "      <td>7.147</td>\n",
       "      <td>54.2</td>\n",
       "      <td>6.0622</td>\n",
       "      <td>3</td>\n",
       "      <td>222.0</td>\n",
       "      <td>18.7</td>\n",
       "      <td>5.33</td>\n",
       "    </tr>\n",
       "  </tbody>\n",
       "</table>\n",
       "</div>"
      ],
      "text/plain": [
       "   medv     crim    zn  indus  chas    nox    age    rm     dis  rad    tax  \\\n",
       "0  24.0  0.00632  18.0   2.31     0  0.538  6.575  65.2  4.0900    1  296.0   \n",
       "1  21.6  0.02731   0.0   7.07     0  0.469  6.421  78.9  4.9671    2  242.0   \n",
       "2  34.7  0.02729   0.0   7.07     0  0.469  7.185  61.1  4.9671    2  242.0   \n",
       "3  33.4  0.03237   0.0   2.18     0  0.458  6.998  45.8  6.0622    3  222.0   \n",
       "4  36.2  0.06905   0.0   2.18     0  0.458  7.147  54.2  6.0622    3  222.0   \n",
       "\n",
       "   ptratio  lstat  \n",
       "0     15.3   4.98  \n",
       "1     17.8   9.14  \n",
       "2     17.8   4.03  \n",
       "3     18.7   2.94  \n",
       "4     18.7   5.33  "
      ]
     },
     "execution_count": 6,
     "metadata": {},
     "output_type": "execute_result"
    }
   ],
   "source": [
    "dataset.head()"
   ]
  },
  {
   "cell_type": "code",
   "execution_count": 7,
   "id": "814a64a7-96ff-4622-b00b-fd899aaba8d2",
   "metadata": {
    "tags": []
   },
   "outputs": [
    {
     "name": "stdout",
     "output_type": "stream",
     "text": [
      "(455, 13)\n",
      "(51, 13)\n"
     ]
    }
   ],
   "source": [
    "training_dataset, validation_dataset = train_test_split(dataset, test_size=0.1)\n",
    "print(training_dataset.shape)\n",
    "print(validation_dataset.shape)"
   ]
  },
  {
   "cell_type": "code",
   "execution_count": 8,
   "id": "f02504aa-4433-4520-b643-e4b0ae07fc79",
   "metadata": {
    "tags": []
   },
   "outputs": [],
   "source": [
    "# Save training and validation datasets as CSV files\n",
    "training_dataset.to_csv('training_dataset.csv', index=False, header=False)\n",
    "validation_dataset.to_csv('validation_dataset.csv', index=False, header=False)"
   ]
  },
  {
   "cell_type": "code",
   "execution_count": 9,
   "id": "05d413c4-ffea-4699-a3d3-0f78c3e62ca5",
   "metadata": {
    "tags": []
   },
   "outputs": [
    {
     "name": "stdout",
     "output_type": "stream",
     "text": [
      "sagemaker.config INFO - Not applying SDK defaults from location: /etc/xdg/sagemaker/config.yaml\n",
      "sagemaker.config INFO - Not applying SDK defaults from location: /home/ec2-user/.config/sagemaker/config.yaml\n",
      "s3://sagemaker-us-east-1-466175814801/boston-housing/input/training/training_dataset.csv\n",
      "s3://sagemaker-us-east-1-466175814801/boston-housing/input/validation/validation_dataset.csv\n"
     ]
    }
   ],
   "source": [
    "sess = sagemaker.Session()\n",
    "bucket = sess.default_bucket()\n",
    "\n",
    "prefix = 'boston-housing'\n",
    "\n",
    "training_data_path = sess.upload_data(path='training_dataset.csv', key_prefix=prefix + '/input/training')\n",
    "validation_data_path = sess.upload_data(path='validation_dataset.csv', key_prefix=prefix + '/input/validation')\n",
    "print(training_data_path)\n",
    "print(validation_data_path)"
   ]
  },
  {
   "cell_type": "code",
   "execution_count": 12,
   "id": "564f52d2-3890-4622-8ff0-5f69a77b0008",
   "metadata": {
    "tags": []
   },
   "outputs": [
    {
     "name": "stdout",
     "output_type": "stream",
     "text": [
      "us-east-1\n",
      "683313688378.dkr.ecr.us-east-1.amazonaws.com/sagemaker-xgboost:1.7-1\n",
      "sagemaker.config INFO - Not applying SDK defaults from location: /etc/xdg/sagemaker/config.yaml\n",
      "sagemaker.config INFO - Not applying SDK defaults from location: /home/ec2-user/.config/sagemaker/config.yaml\n",
      "sagemaker.config INFO - Not applying SDK defaults from location: /etc/xdg/sagemaker/config.yaml\n",
      "sagemaker.config INFO - Not applying SDK defaults from location: /home/ec2-user/.config/sagemaker/config.yaml\n"
     ]
    }
   ],
   "source": [
    "import boto3\n",
    "from sagemaker.estimator import Estimator\n",
    "\n",
    "region = boto3.Session().region_name    \n",
    "print(region)\n",
    "container = sagemaker.image_uris.retrieve(\"xgboost\", region, \"1.7-1\")\n",
    "print(container)\n",
    "\n",
    "xgb_estimator = Estimator(container,\n",
    "    role=sagemaker.get_execution_role(),\n",
    "    instance_count=1,\n",
    "    instance_type='ml.m5.large',\n",
    "    output_path=f's3://{bucket}/{prefix}/output'\n",
    ")\n",
    "\n",
    "xgb_estimator.set_hyperparameters(\n",
    "    objective='reg:squarederror',\n",
    "    num_round=100,                  # number of boosting rounds\n",
    "    max_depth=5                     # maximum tree depth\n",
    ")"
   ]
  },
  {
   "cell_type": "code",
   "execution_count": 14,
   "id": "936df5fd-5e18-43d1-88b7-f4e4d49c436b",
   "metadata": {
    "tags": []
   },
   "outputs": [],
   "source": [
    "# Create TrainingInput channels\n",
    "from sagemaker.inputs import TrainingInput\n",
    "\n",
    "training_data_channel = TrainingInput(s3_data=training_data_path, content_type='csv')\n",
    "validation_data_channel = TrainingInput(s3_data=validation_data_path, content_type='csv')"
   ]
  },
  {
   "cell_type": "code",
   "execution_count": 15,
   "id": "b8d3f509-1a4c-45ad-9ff7-4c8280f5a994",
   "metadata": {
    "tags": []
   },
   "outputs": [
    {
     "name": "stderr",
     "output_type": "stream",
     "text": [
      "INFO:sagemaker:Creating training-job with name: sagemaker-xgboost-2023-12-18-18-32-20-292\n"
     ]
    },
    {
     "name": "stdout",
     "output_type": "stream",
     "text": [
      "2023-12-18 18:32:20 Starting - Starting the training job...\n",
      "2023-12-18 18:32:37 Starting - Preparing the instances for training.........\n",
      "2023-12-18 18:34:05 Downloading - Downloading input data...\n",
      "2023-12-18 18:34:50 Downloading - Downloading the training image........\n",
      "2023-12-18 18:36:22 Training - Training image download completed. Training in progress.\n",
      "2023-12-18 18:36:22 Uploading - Uploading generated training model\n",
      "2023-12-18 18:36:22 Completed - Training job completed\n",
      "\u001b[34m[2023-12-18 18:36:01.044 ip-10-0-172-206.ec2.internal:7 INFO utils.py:28] RULE_JOB_STOP_SIGNAL_FILENAME: None\u001b[0m\n",
      "\u001b[34m[2023-12-18 18:36:01.067 ip-10-0-172-206.ec2.internal:7 INFO profiler_config_parser.py:111] User has disabled profiler.\u001b[0m\n",
      "\u001b[34m[2023-12-18:18:36:01:INFO] Imported framework sagemaker_xgboost_container.training\u001b[0m\n",
      "\u001b[34m[2023-12-18:18:36:01:INFO] Failed to parse hyperparameter objective value reg:squarederror to Json.\u001b[0m\n",
      "\u001b[34mReturning the value itself\u001b[0m\n",
      "\u001b[34m[2023-12-18:18:36:01:INFO] No GPUs detected (normal if no gpus installed)\u001b[0m\n",
      "\u001b[34m[2023-12-18:18:36:01:INFO] Running XGBoost Sagemaker in algorithm mode\u001b[0m\n",
      "\u001b[34m[2023-12-18:18:36:01:INFO] Determined 0 GPU(s) available on the instance.\u001b[0m\n",
      "\u001b[34m[2023-12-18:18:36:01:INFO] Determined delimiter of CSV input is ','\u001b[0m\n",
      "\u001b[34m[2023-12-18:18:36:01:INFO] Determined delimiter of CSV input is ','\u001b[0m\n",
      "\u001b[34m[2023-12-18:18:36:01:INFO] File path /opt/ml/input/data/train of input files\u001b[0m\n",
      "\u001b[34m[2023-12-18:18:36:01:INFO] Making smlinks from folder /opt/ml/input/data/train to folder /tmp/sagemaker_xgboost_input_data\u001b[0m\n",
      "\u001b[34m[2023-12-18:18:36:01:INFO] creating symlink between Path /opt/ml/input/data/train/training_dataset.csv and destination /tmp/sagemaker_xgboost_input_data/training_dataset.csv2328852951664682832\u001b[0m\n",
      "\u001b[34m[2023-12-18:18:36:01:INFO] files path: /tmp/sagemaker_xgboost_input_data\u001b[0m\n",
      "\u001b[34m[2023-12-18:18:36:01:INFO] Determined delimiter of CSV input is ','\u001b[0m\n",
      "\u001b[34m[2023-12-18:18:36:01:INFO] File path /opt/ml/input/data/validation of input files\u001b[0m\n",
      "\u001b[34m[2023-12-18:18:36:01:INFO] Making smlinks from folder /opt/ml/input/data/validation to folder /tmp/sagemaker_xgboost_input_data\u001b[0m\n",
      "\u001b[34m[2023-12-18:18:36:01:INFO] creating symlink between Path /opt/ml/input/data/validation/validation_dataset.csv and destination /tmp/sagemaker_xgboost_input_data/validation_dataset.csv-5631375052354972242\u001b[0m\n",
      "\u001b[34m[2023-12-18:18:36:01:INFO] files path: /tmp/sagemaker_xgboost_input_data\u001b[0m\n",
      "\u001b[34m[2023-12-18:18:36:01:INFO] Determined delimiter of CSV input is ','\u001b[0m\n",
      "\u001b[34m[2023-12-18:18:36:01:INFO] Single node training.\u001b[0m\n",
      "\u001b[34m[2023-12-18:18:36:01:INFO] Train matrix has 455 rows and 12 columns\u001b[0m\n",
      "\u001b[34m[2023-12-18:18:36:01:INFO] Validation matrix has 51 rows\u001b[0m\n",
      "\u001b[34m[2023-12-18 18:36:01.550 ip-10-0-172-206.ec2.internal:7 INFO json_config.py:92] Creating hook from json_config at /opt/ml/input/config/debughookconfig.json.\u001b[0m\n",
      "\u001b[34m[2023-12-18 18:36:01.551 ip-10-0-172-206.ec2.internal:7 INFO hook.py:206] tensorboard_dir has not been set for the hook. SMDebug will not be exporting tensorboard summaries.\u001b[0m\n",
      "\u001b[34m[2023-12-18 18:36:01.552 ip-10-0-172-206.ec2.internal:7 INFO hook.py:259] Saving to /opt/ml/output/tensors\u001b[0m\n",
      "\u001b[34m[2023-12-18 18:36:01.552 ip-10-0-172-206.ec2.internal:7 INFO state_store.py:77] The checkpoint config file /opt/ml/input/config/checkpointconfig.json does not exist.\u001b[0m\n",
      "\u001b[34m[2023-12-18:18:36:01:INFO] Debug hook created from config\u001b[0m\n",
      "\u001b[34m[2023-12-18 18:36:01.558 ip-10-0-172-206.ec2.internal:7 INFO hook.py:427] Monitoring the collections: metrics\u001b[0m\n",
      "\u001b[34m[2023-12-18 18:36:01.561 ip-10-0-172-206.ec2.internal:7 INFO hook.py:491] Hook is writing from the hook with pid: 7\u001b[0m\n",
      "\u001b[34m[0]#011train-rmse:17.20884#011validation-rmse:15.80997\u001b[0m\n",
      "\u001b[34m[1]#011train-rmse:12.37823#011validation-rmse:11.23842\u001b[0m\n",
      "\u001b[34m[2]#011train-rmse:9.02274#011validation-rmse:7.95286\u001b[0m\n",
      "\u001b[34m[3]#011train-rmse:6.62894#011validation-rmse:5.88643\u001b[0m\n",
      "\u001b[34m[4]#011train-rmse:4.97229#011validation-rmse:4.59808\u001b[0m\n",
      "\u001b[34m[5]#011train-rmse:3.81860#011validation-rmse:3.77521\u001b[0m\n",
      "\u001b[34m[6]#011train-rmse:3.02341#011validation-rmse:3.29720\u001b[0m\n",
      "\u001b[34m[7]#011train-rmse:2.47711#011validation-rmse:3.08552\u001b[0m\n",
      "\u001b[34m[8]#011train-rmse:2.10862#011validation-rmse:2.93445\u001b[0m\n",
      "\u001b[34m[9]#011train-rmse:1.87654#011validation-rmse:2.86660\u001b[0m\n",
      "\u001b[34m[10]#011train-rmse:1.71112#011validation-rmse:2.84086\u001b[0m\n",
      "\u001b[34m[11]#011train-rmse:1.59581#011validation-rmse:2.80879\u001b[0m\n",
      "\u001b[34m[12]#011train-rmse:1.48259#011validation-rmse:2.77803\u001b[0m\n",
      "\u001b[34m[13]#011train-rmse:1.39128#011validation-rmse:2.77670\u001b[0m\n",
      "\u001b[34m[14]#011train-rmse:1.34602#011validation-rmse:2.75890\u001b[0m\n",
      "\u001b[34m[15]#011train-rmse:1.28791#011validation-rmse:2.72407\u001b[0m\n",
      "\u001b[34m[16]#011train-rmse:1.21023#011validation-rmse:2.71518\u001b[0m\n",
      "\u001b[34m[17]#011train-rmse:1.15056#011validation-rmse:2.73884\u001b[0m\n",
      "\u001b[34m[18]#011train-rmse:1.11378#011validation-rmse:2.72904\u001b[0m\n",
      "\u001b[34m[19]#011train-rmse:1.07688#011validation-rmse:2.74172\u001b[0m\n",
      "\u001b[34m[20]#011train-rmse:1.01477#011validation-rmse:2.71258\u001b[0m\n",
      "\u001b[34m[21]#011train-rmse:0.95599#011validation-rmse:2.73531\u001b[0m\n",
      "\u001b[34m[22]#011train-rmse:0.91028#011validation-rmse:2.73421\u001b[0m\n",
      "\u001b[34m[23]#011train-rmse:0.89848#011validation-rmse:2.72334\u001b[0m\n",
      "\u001b[34m[24]#011train-rmse:0.85642#011validation-rmse:2.71429\u001b[0m\n",
      "\u001b[34m[25]#011train-rmse:0.82027#011validation-rmse:2.71522\u001b[0m\n",
      "\u001b[34m[26]#011train-rmse:0.80171#011validation-rmse:2.72558\u001b[0m\n",
      "\u001b[34m[27]#011train-rmse:0.77711#011validation-rmse:2.72121\u001b[0m\n",
      "\u001b[34m[28]#011train-rmse:0.76021#011validation-rmse:2.74097\u001b[0m\n",
      "\u001b[34m[29]#011train-rmse:0.74886#011validation-rmse:2.73504\u001b[0m\n",
      "\u001b[34m[30]#011train-rmse:0.73649#011validation-rmse:2.73933\u001b[0m\n",
      "\u001b[34m[31]#011train-rmse:0.72456#011validation-rmse:2.75327\u001b[0m\n",
      "\u001b[34m[32]#011train-rmse:0.71433#011validation-rmse:2.73789\u001b[0m\n",
      "\u001b[34m[33]#011train-rmse:0.67608#011validation-rmse:2.75270\u001b[0m\n",
      "\u001b[34m[34]#011train-rmse:0.65636#011validation-rmse:2.74841\u001b[0m\n",
      "\u001b[34m[35]#011train-rmse:0.63843#011validation-rmse:2.76029\u001b[0m\n",
      "\u001b[34m[36]#011train-rmse:0.63431#011validation-rmse:2.76689\u001b[0m\n",
      "\u001b[34m[37]#011train-rmse:0.61520#011validation-rmse:2.76411\u001b[0m\n",
      "\u001b[34m[38]#011train-rmse:0.60347#011validation-rmse:2.75895\u001b[0m\n",
      "\u001b[34m[39]#011train-rmse:0.58480#011validation-rmse:2.74432\u001b[0m\n",
      "\u001b[34m[40]#011train-rmse:0.56448#011validation-rmse:2.75853\u001b[0m\n",
      "\u001b[34m[41]#011train-rmse:0.55898#011validation-rmse:2.76123\u001b[0m\n",
      "\u001b[34m[42]#011train-rmse:0.54813#011validation-rmse:2.76215\u001b[0m\n",
      "\u001b[34m[43]#011train-rmse:0.53320#011validation-rmse:2.74495\u001b[0m\n",
      "\u001b[34m[44]#011train-rmse:0.51096#011validation-rmse:2.75797\u001b[0m\n",
      "\u001b[34m[45]#011train-rmse:0.48793#011validation-rmse:2.75864\u001b[0m\n",
      "\u001b[34m[46]#011train-rmse:0.48202#011validation-rmse:2.75894\u001b[0m\n",
      "\u001b[34m[47]#011train-rmse:0.47630#011validation-rmse:2.75832\u001b[0m\n",
      "\u001b[34m[48]#011train-rmse:0.46242#011validation-rmse:2.75392\u001b[0m\n",
      "\u001b[34m[49]#011train-rmse:0.45497#011validation-rmse:2.75042\u001b[0m\n",
      "\u001b[34m[50]#011train-rmse:0.44501#011validation-rmse:2.75014\u001b[0m\n",
      "\u001b[34m[51]#011train-rmse:0.44042#011validation-rmse:2.75069\u001b[0m\n",
      "\u001b[34m[52]#011train-rmse:0.43409#011validation-rmse:2.74754\u001b[0m\n",
      "\u001b[34m[53]#011train-rmse:0.42133#011validation-rmse:2.75538\u001b[0m\n",
      "\u001b[34m[54]#011train-rmse:0.41105#011validation-rmse:2.76039\u001b[0m\n",
      "\u001b[34m[55]#011train-rmse:0.39960#011validation-rmse:2.76795\u001b[0m\n",
      "\u001b[34m[56]#011train-rmse:0.38419#011validation-rmse:2.76701\u001b[0m\n",
      "\u001b[34m[57]#011train-rmse:0.37623#011validation-rmse:2.76360\u001b[0m\n",
      "\u001b[34m[58]#011train-rmse:0.35969#011validation-rmse:2.75394\u001b[0m\n",
      "\u001b[34m[59]#011train-rmse:0.35033#011validation-rmse:2.74788\u001b[0m\n",
      "\u001b[34m[60]#011train-rmse:0.33471#011validation-rmse:2.74545\u001b[0m\n",
      "\u001b[34m[61]#011train-rmse:0.32676#011validation-rmse:2.74980\u001b[0m\n",
      "\u001b[34m[62]#011train-rmse:0.31702#011validation-rmse:2.75165\u001b[0m\n",
      "\u001b[34m[63]#011train-rmse:0.30905#011validation-rmse:2.75010\u001b[0m\n",
      "\u001b[34m[64]#011train-rmse:0.30038#011validation-rmse:2.75352\u001b[0m\n",
      "\u001b[34m[65]#011train-rmse:0.28573#011validation-rmse:2.75326\u001b[0m\n",
      "\u001b[34m[66]#011train-rmse:0.27868#011validation-rmse:2.75552\u001b[0m\n",
      "\u001b[34m[67]#011train-rmse:0.26897#011validation-rmse:2.75448\u001b[0m\n",
      "\u001b[34m[68]#011train-rmse:0.25922#011validation-rmse:2.75841\u001b[0m\n",
      "\u001b[34m[69]#011train-rmse:0.25060#011validation-rmse:2.75837\u001b[0m\n",
      "\u001b[34m[70]#011train-rmse:0.24512#011validation-rmse:2.76418\u001b[0m\n",
      "\u001b[34m[71]#011train-rmse:0.23908#011validation-rmse:2.75924\u001b[0m\n",
      "\u001b[34m[72]#011train-rmse:0.23546#011validation-rmse:2.76211\u001b[0m\n",
      "\u001b[34m[73]#011train-rmse:0.22991#011validation-rmse:2.75966\u001b[0m\n",
      "\u001b[34m[74]#011train-rmse:0.22406#011validation-rmse:2.76303\u001b[0m\n",
      "\u001b[34m[75]#011train-rmse:0.22071#011validation-rmse:2.76531\u001b[0m\n",
      "\u001b[34m[76]#011train-rmse:0.21569#011validation-rmse:2.76193\u001b[0m\n",
      "\u001b[34m[77]#011train-rmse:0.20966#011validation-rmse:2.76189\u001b[0m\n",
      "\u001b[34m[78]#011train-rmse:0.20699#011validation-rmse:2.76057\u001b[0m\n",
      "\u001b[34m[79]#011train-rmse:0.20174#011validation-rmse:2.75981\u001b[0m\n",
      "\u001b[34m[80]#011train-rmse:0.19543#011validation-rmse:2.75980\u001b[0m\n",
      "\u001b[34m[81]#011train-rmse:0.18847#011validation-rmse:2.76029\u001b[0m\n",
      "\u001b[34m[82]#011train-rmse:0.18044#011validation-rmse:2.75696\u001b[0m\n",
      "\u001b[34m[83]#011train-rmse:0.17681#011validation-rmse:2.75783\u001b[0m\n",
      "\u001b[34m[84]#011train-rmse:0.17351#011validation-rmse:2.76066\u001b[0m\n",
      "\u001b[34m[85]#011train-rmse:0.16847#011validation-rmse:2.76034\u001b[0m\n",
      "\u001b[34m[86]#011train-rmse:0.16326#011validation-rmse:2.76317\u001b[0m\n",
      "\u001b[34m[87]#011train-rmse:0.16052#011validation-rmse:2.76505\u001b[0m\n",
      "\u001b[34m[88]#011train-rmse:0.15475#011validation-rmse:2.76401\u001b[0m\n",
      "\u001b[34m[89]#011train-rmse:0.15136#011validation-rmse:2.76498\u001b[0m\n",
      "\u001b[34m[90]#011train-rmse:0.14911#011validation-rmse:2.76677\u001b[0m\n",
      "\u001b[34m[91]#011train-rmse:0.14619#011validation-rmse:2.76800\u001b[0m\n",
      "\u001b[34m[92]#011train-rmse:0.14148#011validation-rmse:2.76728\u001b[0m\n",
      "\u001b[34m[93]#011train-rmse:0.14052#011validation-rmse:2.76816\u001b[0m\n",
      "\u001b[34m[94]#011train-rmse:0.13665#011validation-rmse:2.76639\u001b[0m\n",
      "\u001b[34m[95]#011train-rmse:0.13281#011validation-rmse:2.76852\u001b[0m\n",
      "\u001b[34m[96]#011train-rmse:0.13001#011validation-rmse:2.76551\u001b[0m\n",
      "\u001b[34m[97]#011train-rmse:0.12831#011validation-rmse:2.76602\u001b[0m\n",
      "\u001b[34m[98]#011train-rmse:0.12644#011validation-rmse:2.76619\u001b[0m\n",
      "\u001b[34m[99]#011train-rmse:0.12247#011validation-rmse:2.77022\u001b[0m\n",
      "Training seconds: 137\n",
      "Billable seconds: 137\n"
     ]
    }
   ],
   "source": [
    "# Fit the XGBoost model\n",
    "xgb_estimator.fit({'train': training_data_channel, 'validation': validation_data_channel})"
   ]
  },
  {
   "cell_type": "code",
   "execution_count": 16,
   "id": "cf8df524-0c0e-4c3d-8736-3fb3c9303e11",
   "metadata": {
    "tags": []
   },
   "outputs": [
    {
     "name": "stdout",
     "output_type": "stream",
     "text": [
      "xgb-demo-18-18-36-33\n"
     ]
    }
   ],
   "source": [
    "from time import strftime, gmtime\n",
    "timestamp = strftime('%d-%H-%M-%S', gmtime())\n",
    "\n",
    "endpoint_name = 'xgb-demo-'+timestamp\n",
    "print(endpoint_name)"
   ]
  },
  {
   "cell_type": "code",
   "execution_count": 17,
   "id": "88a02d62-724c-41c7-a8f9-4b9dcfda6785",
   "metadata": {
    "tags": []
   },
   "outputs": [
    {
     "name": "stderr",
     "output_type": "stream",
     "text": [
      "INFO:sagemaker:Creating model with name: sagemaker-xgboost-2023-12-18-18-36-33-232\n",
      "INFO:sagemaker:Creating endpoint-config with name xgb-demo-18-18-36-33\n",
      "INFO:sagemaker:Creating endpoint with name xgb-demo-18-18-36-33\n"
     ]
    },
    {
     "name": "stdout",
     "output_type": "stream",
     "text": [
      "------!"
     ]
    }
   ],
   "source": [
    "xgb_predictor = xgb_estimator.deploy(endpoint_name=endpoint_name, \n",
    "                        initial_instance_count=1, \n",
    "                        instance_type='ml.m5.large')"
   ]
  },
  {
   "cell_type": "code",
   "execution_count": 18,
   "id": "a2facfb1-baa4-420a-bbbe-22ae6ada9938",
   "metadata": {
    "tags": []
   },
   "outputs": [
    {
     "name": "stdout",
     "output_type": "stream",
     "text": [
      "[['42.542137145996094']]\n"
     ]
    }
   ],
   "source": [
    "test_sample = '0.00123,12.00,1.3410,0,0.6310,7.4410,60.35,5.0411,1,296.1,05.30,3.19'\n",
    "\n",
    "xgb_predictor.serializer = sagemaker.serializers.CSVSerializer()\n",
    "xgb_predictor.deserializer = sagemaker.deserializers.CSVDeserializer()\n",
    "\n",
    "response = xgb_predictor.predict(test_sample)\n",
    "print(response)"
   ]
  },
  {
   "cell_type": "code",
   "execution_count": 19,
   "id": "a928fc70-908a-45e4-ad03-6260a4370acd",
   "metadata": {
    "tags": []
   },
   "outputs": [
    {
     "name": "stderr",
     "output_type": "stream",
     "text": [
      "INFO:sagemaker:Deleting endpoint configuration with name: xgb-demo-18-18-36-33\n",
      "INFO:sagemaker:Deleting endpoint with name: xgb-demo-18-18-36-33\n"
     ]
    }
   ],
   "source": [
    "xgb_predictor.delete_endpoint()"
   ]
  },
  {
   "cell_type": "code",
   "execution_count": null,
   "id": "c1d2d615-07a9-44d3-ba1b-47e5e5e54d0e",
   "metadata": {},
   "outputs": [],
   "source": []
  },
  {
   "cell_type": "code",
   "execution_count": null,
   "id": "f6acd0cb-7835-4843-b613-4f685f19bd70",
   "metadata": {},
   "outputs": [],
   "source": []
  },
  {
   "cell_type": "code",
   "execution_count": null,
   "id": "0018822f-c77e-4549-9101-e4103473a43e",
   "metadata": {},
   "outputs": [],
   "source": []
  },
  {
   "cell_type": "code",
   "execution_count": null,
   "id": "c334bedc-97dc-4877-90d7-cbcfad6a47a9",
   "metadata": {},
   "outputs": [],
   "source": []
  },
  {
   "cell_type": "code",
   "execution_count": null,
   "id": "83023362-01c2-4426-b7ac-20a3d32a0867",
   "metadata": {},
   "outputs": [],
   "source": []
  },
  {
   "cell_type": "code",
   "execution_count": null,
   "id": "e5647e92-a790-44eb-af73-b54517a35673",
   "metadata": {},
   "outputs": [],
   "source": []
  }
 ],
 "metadata": {
  "kernelspec": {
   "display_name": "conda_python3",
   "language": "python",
   "name": "conda_python3"
  },
  "language_info": {
   "codemirror_mode": {
    "name": "ipython",
    "version": 3
   },
   "file_extension": ".py",
   "mimetype": "text/x-python",
   "name": "python",
   "nbconvert_exporter": "python",
   "pygments_lexer": "ipython3",
   "version": "3.10.13"
  }
 },
 "nbformat": 4,
 "nbformat_minor": 5
}
