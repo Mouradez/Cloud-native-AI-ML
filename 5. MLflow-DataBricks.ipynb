{
 "cells": [
  {
   "cell_type": "code",
   "execution_count": 0,
   "metadata": {
    "application/vnd.databricks.v1+cell": {
     "cellMetadata": {
      "byteLimit": 2048000,
      "rowLimit": 10000
     },
     "inputWidgets": {},
     "nuid": "88d14d75-eba1-4983-8261-dc00340d0597",
     "showTitle": false,
     "title": ""
    }
   },
   "outputs": [
    {
     "output_type": "stream",
     "name": "stdout",
     "output_type": "stream",
     "text": [
      "Collecting mlflow==1.20.2\r\n  Downloading mlflow-1.20.2-py3-none-any.whl (14.6 MB)\r\n\u001B[?25l\r\u001B[K     |                                | 10 kB 10.4 MB/s eta 0:00:02\r\u001B[K     |                                | 20 kB 4.5 MB/s eta 0:00:04\r\u001B[K     |                                | 30 kB 6.4 MB/s eta 0:00:03\r\u001B[K     |                                | 40 kB 4.8 MB/s eta 0:00:04\r\u001B[K     |▏                               | 51 kB 5.0 MB/s eta 0:00:03\r\u001B[K     |▏                               | 61 kB 5.8 MB/s eta 0:00:03\r\u001B[K     |▏                               | 71 kB 6.0 MB/s eta 0:00:03\r\u001B[K     |▏                               | 81 kB 6.3 MB/s eta 0:00:03\r\u001B[K     |▏                               | 92 kB 6.3 MB/s eta 0:00:03\r\u001B[K     |▎                               | 102 kB 5.7 MB/s eta 0:00:03\r\u001B[K     |▎                               | 112 kB 5.7 MB/s eta 0:00:03\r\u001B[K     |▎                               | 122 kB 5.7 MB/s eta 0:00:03\r\u001B[K     |▎                               | 133 kB 5.7 MB/s eta 0:00:03\r\u001B[K     |▎                               | 143 kB 5.7 MB/s eta 0:00:03\r\u001B[K     |▍                               | 153 kB 5.7 MB/s eta 0:00:03\r\u001B[K     |▍                               | 163 kB 5.7 MB/s eta 0:00:03\r\u001B[K     |▍                               | 174 kB 5.7 MB/s eta 0:00:03\r\u001B[K     |▍                               | 184 kB 5.7 MB/s eta 0:00:03\r\u001B[K     |▍                               | 194 kB 5.7 MB/s eta 0:00:03\r\u001B[K     |▌                               | 204 kB 5.7 MB/s eta 0:00:03\r\u001B[K     |▌                               | 215 kB 5.7 MB/s eta 0:00:03\r\u001B[K     |▌                               | 225 kB 5.7 MB/s eta 0:00:03\r\u001B[K     |▌                               | 235 kB 5.7 MB/s eta 0:00:03\r\u001B[K     |▌                               | 245 kB 5.7 MB/s eta 0:00:03\r\u001B[K     |▋                               | 256 kB 5.7 MB/s eta 0:00:03\r\u001B[K     |▋                               | 266 kB 5.7 MB/s eta 0:00:03\r\u001B[K     |▋                               | 276 kB 5.7 MB/s eta 0:00:03\r\u001B[K     |▋                               | 286 kB 5.7 MB/s eta 0:00:03\r\u001B[K     |▋                               | 296 kB 5.7 MB/s eta 0:00:03\r\u001B[K     |▊                               | 307 kB 5.7 MB/s eta 0:00:03\r\u001B[K     |▊                               | 317 kB 5.7 MB/s eta 0:00:03\r\u001B[K     |▊                               | 327 kB 5.7 MB/s eta 0:00:03\r\u001B[K     |▊                               | 337 kB 5.7 MB/s eta 0:00:03\r\u001B[K     |▊                               | 348 kB 5.7 MB/s eta 0:00:03\r\u001B[K     |▉                               | 358 kB 5.7 MB/s eta 0:00:03\r\u001B[K     |▉                               | 368 kB 5.7 MB/s eta 0:00:03\r\u001B[K     |▉                               | 378 kB 5.7 MB/s eta 0:00:03\r\u001B[K     |▉                               | 389 kB 5.7 MB/s eta 0:00:03\r\u001B[K     |▉                               | 399 kB 5.7 MB/s eta 0:00:03\r\u001B[K     |█                               | 409 kB 5.7 MB/s eta 0:00:03\r\u001B[K     |█                               | 419 kB 5.7 MB/s eta 0:00:03\r\u001B[K     |█                               | 430 kB 5.7 MB/s eta 0:00:03\r\u001B[K     |█                               | 440 kB 5.7 MB/s eta 0:00:03\r\u001B[K     |█                               | 450 kB 5.7 MB/s eta 0:00:03\r\u001B[K     |█                               | 460 kB 5.7 MB/s eta 0:00:03\r\u001B[K     |█                               | 471 kB 5.7 MB/s eta 0:00:03\r\u001B[K     |█                               | 481 kB 5.7 MB/s eta 0:00:03\r\u001B[K     |█                               | 491 kB 5.7 MB/s eta 0:00:03\r\u001B[K     |█                               | 501 kB 5.7 MB/s eta 0:00:03\r\u001B[K     |█▏                              | 512 kB 5.7 MB/s eta 0:00:03\r\u001B[K     |█▏                              | 522 kB 5.7 MB/s eta 0:00:03\r\u001B[K     |█▏                              | 532 kB 5.7 MB/s eta 0:00:03\r\u001B[K     |█▏                              | 542 kB 5.7 MB/s eta 0:00:03\r\u001B[K     |█▏                              | 552 kB 5.7 MB/s eta 0:00:03\r\u001B[K     |█▎                              | 563 kB 5.7 MB/s eta 0:00:03\r\u001B[K     |█▎                              | 573 kB 5.7 MB/s eta 0:00:03\r\u001B[K     |█▎                              | 583 kB 5.7 MB/s eta 0:00:03\r\u001B[K     |█▎                              | 593 kB 5.7 MB/s eta 0:00:03\r\u001B[K     |█▎                              | 604 kB 5.7 MB/s eta 0:00:03\r\u001B[K     |█▍                              | 614 kB 5.7 MB/s eta 0:00:03\r\u001B[K     |█▍                              | 624 kB 5.7 MB/s eta 0:00:03\r\u001B[K     |█▍                              | 634 kB 5.7 MB/s eta 0:00:03\r\u001B[K     |█▍                              | 645 kB 5.7 MB/s eta 0:00:03\r\u001B[K     |█▍                              | 655 kB 5.7 MB/s eta 0:00:03\r\u001B[K     |█▌                              | 665 kB 5.7 MB/s eta 0:00:03\r\u001B[K     |█▌                              | 675 kB 5.7 MB/s eta 0:00:03\r\u001B[K     |█▌                              | 686 kB 5.7 MB/s eta 0:00:03\r\u001B[K     |█▌                              | 696 kB 5.7 MB/s eta 0:00:03\r\u001B[K     |█▌                              | 706 kB 5.7 MB/s eta 0:00:03\r\u001B[K     |█▋                              | 716 kB 5.7 MB/s eta 0:00:03\r\u001B[K     |█▋                              | 727 kB 5.7 MB/s eta 0:00:03\r\u001B[K     |█▋                              | 737 kB 5.7 MB/s eta 0:00:03\r\u001B[K     |█▋                              | 747 kB 5.7 MB/s eta 0:00:03\r\u001B[K     |█▋                              | 757 kB 5.7 MB/s eta 0:00:03\r\u001B[K     |█▊                              | 768 kB 5.7 MB/s eta 0:00:03\r\u001B[K     |█▊                              | 778 kB 5.7 MB/s eta 0:00:03\r\u001B[K     |█▊                              | 788 kB 5.7 MB/s eta 0:00:03\r\u001B[K     |█▊                              | 798 kB 5.7 MB/s eta 0:00:03\r\u001B[K     |█▊                              | 808 kB 5.7 MB/s eta 0:00:03\r\u001B[K     |█▉                              | 819 kB 5.7 MB/s eta 0:00:03\r\u001B[K     |█▉                              | 829 kB 5.7 MB/s eta 0:00:03\r\u001B[K     |█▉                              | 839 kB 5.7 MB/s eta 0:00:03\r\u001B[K     |█▉                              | 849 kB 5.7 MB/s eta 0:00:03\r\u001B[K     |█▉                              | 860 kB 5.7 MB/s eta 0:00:03\r\u001B[K     |██                              | 870 kB 5.7 MB/s eta 0:00:03\r\u001B[K     |██                              | 880 kB 5.7 MB/s eta 0:00:03\r\u001B[K     |██                              | 890 kB 5.7 MB/s eta 0:00:03\r\u001B[K     |██                              | 901 kB 5.7 MB/s eta 0:00:03\r\u001B[K     |██                              | 911 kB 5.7 MB/s eta 0:00:03\r\u001B[K     |██                              | 921 kB 5.7 MB/s eta 0:00:03\r\u001B[K     |██                              | 931 kB 5.7 MB/s eta 0:00:03\r\u001B[K     |██                              | 942 kB 5.7 MB/s eta 0:00:03\r\u001B[K     |██                              | 952 kB 5.7 MB/s eta 0:00:03\r\u001B[K     |██                              | 962 kB 5.7 MB/s eta 0:00:03\r\u001B[K     |██▏                             | 972 kB 5.7 MB/s eta 0:00:03\r\u001B[K     |██▏                             | 983 kB 5.7 MB/s eta 0:00:03\r\u001B[K     |██▏                             | 993 kB 5.7 MB/s eta 0:00:03\r\u001B[K     |██▏                             | 1.0 MB 5.7 MB/s eta 0:00:03\r\u001B[K     |██▏                             | 1.0 MB 5.7 MB/s eta 0:00:03\r\u001B[K     |██▎                             | 1.0 MB 5.7 MB/s eta 0:00:03\r\u001B[K     |██▎                             | 1.0 MB 5.7 MB/s eta 0:00:03\r\u001B[K     |██▎                             | 1.0 MB 5.7 MB/s eta 0:00:03\r\u001B[K     |██▎                             | 1.1 MB 5.7 MB/s eta 0:00:03\r\u001B[K     |██▎                             | 1.1 MB 5.7 MB/s eta 0:00:03\r\u001B[K     |██▍                             | 1.1 MB 5.7 MB/s eta 0:00:03\r\u001B[K     |██▍                             | 1.1 MB 5.7 MB/s eta 0:00:03\r\u001B[K     |██▍                             | 1.1 MB 5.7 MB/s eta 0:00:03\r\u001B[K     |██▍                             | 1.1 MB 5.7 MB/s eta 0:00:03\r\u001B[K     |██▍                             | 1.1 MB 5.7 MB/s eta 0:00:03\r\u001B[K     |██▌                             | 1.1 MB 5.7 MB/s eta 0:00:03\r\u001B[K     |██▌                             | 1.1 MB 5.7 MB/s eta 0:00:03\r\u001B[K     |██▌                             | 1.1 MB 5.7 MB/s eta 0:00:03\r\u001B[K     |██▌                             | 1.2 MB 5.7 MB/s eta 0:00:03\r\u001B[K     |██▌                             | 1.2 MB 5.7 MB/s eta 0:00:03\r\u001B[K     |██▋                             | 1.2 MB 5.7 MB/s eta 0:00:03\r\u001B[K     |██▋                             | 1.2 MB 5.7 MB/s eta 0:00:03\r\u001B[K     |██▋                             | 1.2 MB 5.7 MB/s eta 0:00:03\r\u001B[K     |██▋                             | 1.2 MB 5.7 MB/s eta 0:00:03\r\u001B[K     |██▋                             | 1.2 MB 5.7 MB/s eta 0:00:03\r\u001B[K     |██▊                             | 1.2 MB 5.7 MB/s eta 0:00:03\r\u001B[K     |██▊                             | 1.2 MB 5.7 MB/s eta 0:00:03\r\u001B[K     |██▊                             | 1.2 MB 5.7 MB/s eta 0:00:03\r\u001B[K     |██▊                             | 1.3 MB 5.7 MB/s eta 0:00:03\r\u001B[K     |██▊                             | 1.3 MB 5.7 MB/s eta 0:00:03\r\u001B[K     |██▉                             | 1.3 MB 5.7 MB/s eta 0:00:03\r\u001B[K     |██▉                             | 1.3 MB 5.7 MB/s eta 0:00:03\r\u001B[K     |██▉                             | 1.3 MB 5.7 MB/s eta 0:00:03\r\u001B[K     |██▉                             | 1.3 MB 5.7 MB/s eta 0:00:03\r\u001B[K     |███                             | 1.3 MB 5.7 MB/s eta 0:00:03\r\u001B[K     |███                             | 1.3 MB 5.7 MB/s eta 0:00:03\r\u001B[K     |███                             | 1.3 MB 5.7 MB/s eta 0:00:03\r\u001B[K     |███                             | 1.4 MB 5.7 MB/s eta 0:00:03\r\u001B[K     |███                             | 1.4 MB 5.7 MB/s eta 0:00:03\r\u001B[K     |███                             | 1.4 MB 5.7 MB/s eta 0:00:03\r\u001B[K     |███                             | 1.4 MB 5.7 MB/s eta 0:00:03\r\u001B[K     |███                             | 1.4 MB 5.7 MB/s eta 0:00:03\r\u001B[K     |███                             | 1.4 MB 5.7 MB/s eta 0:00:03\r\u001B[K     |███                             | 1.4 MB 5.7 MB/s eta 0:00:03\r\u001B[K     |███▏                            | 1.4 MB 5.7 MB/s eta 0:00:03\r\u001B[K     |███▏                            | 1.4 MB 5.7 MB/s eta 0:00:03\r\u001B[K     |███▏                            | 1.4 MB 5.7 MB/s eta 0:00:03\r\u001B[K     |███▏                            | 1.5 MB 5.7 MB/s eta 0:00:03\r\u001B[K     |███▏                            | 1.5 MB 5.7 MB/s eta 0:00:03\r\u001B[K     |███▎                            | 1.5 MB 5.7 MB/s eta 0:00:03\r\u001B[K     |███▎                            | 1.5 MB 5.7 MB/s eta 0:00:03\r\u001B[K     |███▎                            | 1.5 MB 5.7 MB/s eta 0:00:03\r\u001B[K     |███▎                            | 1.5 MB 5.7 MB/s eta 0:00:03\r\u001B[K     |███▎                            | 1.5 MB 5.7 MB/s eta 0:00:03\r\u001B[K     |███▍                            | 1.5 MB 5.7 MB/s eta 0:00:03\r\u001B[K     |███▍                            | 1.5 MB 5.7 MB/s eta 0:00:03\r\u001B[K     |███▍                            | 1.5 MB 5.7 MB/s eta 0:00:03\r\u001B[K     |███▍                            | 1.6 MB 5.7 MB/s eta 0:00:03\r\u001B[K     |███▍                            | 1.6 MB 5.7 MB/s eta 0:00:03\r\u001B[K     |███▌                            | 1.6 MB 5.7 MB/s eta 0:00:03\r\u001B[K     |███▌                            | 1.6 MB 5.7 MB/s eta 0:00:03\r\u001B[K     |███▌                            | 1.6 MB 5.7 MB/s eta 0:00:03\r\u001B[K     |███▌                            | 1.6 MB 5.7 MB/s eta 0:00:03\r\u001B[K     |███▌                            | 1.6 MB 5.7 MB/s eta 0:00:03\r\u001B[K     |███▋                            | 1.6 MB 5.7 MB/s eta 0:00:03\r\u001B[K     |███▋                            | 1.6 MB 5.7 MB/s eta 0:00:03\r\u001B[K     |███▋                            | 1.6 MB 5.7 MB/s eta 0:00:03\r\u001B[K     |███▋                            | 1.7 MB 5.7 MB/s eta 0:00:03\r\u001B[K     |███▋                            | 1.7 MB 5.7 MB/s eta 0:00:03\r\u001B[K     |███▊                            | 1.7 MB 5.7 MB/s eta 0:00:03\r\u001B[K     |███▊                            | 1.7 MB 5.7 MB/s eta 0:00:03\r\u001B[K     |███▊                            | 1.7 MB 5.7 MB/s eta 0:00:03\r\u001B[K     |███▊                            | 1.7 MB 5.7 MB/s eta 0:00:03\r\u001B[K     |███▊                            | 1.7 MB 5.7 MB/s eta 0:00:03\r\u001B[K     |███▉                            | 1.7 MB 5.7 MB/s eta 0:00:03\r\u001B[K     |███▉                            | 1.7 MB 5.7 MB/s eta 0:00:03\r\u001B[K     |███▉                            | 1.8 MB 5.7 MB/s eta 0:00:03\r\u001B[K     |███▉                            | 1.8 MB 5.7 MB/s eta 0:00:03\r\u001B[K     |███▉                            | 1.8 MB 5.7 MB/s eta 0:00:03\r\u001B[K     |████                            | 1.8 MB 5.7 MB/s eta 0:00:03\r\u001B[K     |████                            | 1.8 MB 5.7 MB/s eta 0:00:03\r\u001B[K     |████                            | 1.8 MB 5.7 MB/s eta 0:00:03\r\u001B[K     |████                            | 1.8 MB 5.7 MB/s eta 0:00:03\r\u001B[K     |████                            | 1.8 MB 5.7 MB/s eta 0:00:03\r\u001B[K     |████                            | 1.8 MB 5.7 MB/s eta 0:00:03\r\u001B[K     |████                            | 1.8 MB 5.7 MB/s eta 0:00:03\r\u001B[K     |████                            | 1.9 MB 5.7 MB/s eta 0:00:03\r\u001B[K     |████                            | 1.9 MB 5.7 MB/s eta 0:00:03\r\u001B[K     |████                            | 1.9 MB 5.7 MB/s eta 0:00:03\r\u001B[K     |████▏                           | 1.9 MB 5.7 MB/s eta 0:00:03\r\u001B[K     |████▏                           | 1.9 MB 5.7 MB/s eta 0:00:03\r\u001B[K     |████▏                           | 1.9 MB 5.7 MB/s eta 0:00:03\r\u001B[K     |████▏                           | 1.9 MB 5.7 MB/s eta 0:00:03\r\u001B[K     |████▏                           | 1.9 MB 5.7 MB/s eta 0:00:03\r\u001B[K     |████▎                           | 1.9 MB 5.7 MB/s eta 0:00:03\r\u001B[K     |████▎                           | 1.9 MB 5.7 MB/s eta 0:00:03\r\u001B[K     |████▎                           | 2.0 MB 5.7 MB/s eta 0:00:03\r\u001B[K     |████▎                           | 2.0 MB 5.7 MB/s eta 0:00:03\r\u001B[K     |████▎                           | 2.0 MB 5.7 MB/s eta 0:00:03\r\u001B[K     |████▍                           | 2.0 MB 5.7 MB/s eta 0:00:03\r\u001B[K     |████▍                           | 2.0 MB 5.7 MB/s eta 0:00:03\r\u001B[K     |████▍                           | 2.0 MB 5.7 MB/s eta 0:00:03\r\u001B[K     |████▍                           | 2.0 MB 5.7 MB/s eta 0:00:03\r\u001B[K     |████▍                           | 2.0 MB 5.7 MB/s eta 0:00:03\r\u001B[K     |████▌                           | 2.0 MB 5.7 MB/s eta 0:00:03\r\u001B[K     |████▌                           | 2.0 MB 5.7 MB/s eta 0:00:03\r\u001B[K     |████▌                           | 2.1 MB 5.7 MB/s eta 0:00:03\r\u001B[K     |████▌                           | 2.1 MB 5.7 MB/s eta 0:00:03\r\u001B[K     |████▌                           | 2.1 MB 5.7 MB/s eta 0:00:03\r\u001B[K     |████▋                           | 2.1 MB 5.7 MB/s eta 0:00:03\r\u001B[K     |████▋                           | 2.1 MB 5.7 MB/s eta 0:00:03\r\u001B[K     |████▋                           | 2.1 MB 5.7 MB/s eta 0:00:03\r\u001B[K     |████▋                           | 2.1 MB 5.7 MB/s eta 0:00:03\r\u001B[K     |████▋                           | 2.1 MB 5.7 MB/s eta 0:00:03\r\u001B[K     |████▊                           | 2.1 MB 5.7 MB/s eta 0:00:03\r\u001B[K     |████▊                           | 2.2 MB 5.7 MB/s eta 0:00:03\r\u001B[K     |████▊                           | 2.2 MB 5.7 MB/s eta 0:00:03\r\u001B[K     |████▊                           | 2.2 MB 5.7 MB/s eta 0:00:03\r\u001B[K     |████▊                           | 2.2 MB 5.7 MB/s eta 0:00:03\r\u001B[K     |████▉                           | 2.2 MB 5.7 MB/s eta 0:00:03\r\u001B[K     |████▉                           | 2.2 MB 5.7 MB/s eta 0:00:03\r\u001B[K     |████▉                           | 2.2 MB 5.7 MB/s eta 0:00:03\r\u001B[K     |████▉                           | 2.2 MB 5.7 MB/s eta 0:00:03\r\u001B[K     |████▉                           | 2.2 MB 5.7 MB/s eta 0:00:03\r\u001B[K     |█████                           | 2.2 MB 5.7 MB/s eta 0:00:03\r\u001B[K     |█████                           | 2.3 MB 5.7 MB/s eta 0:00:03\r\u001B[K     |█████                           | 2.3 MB 5.7 MB/s eta 0:00:03\r\u001B[K     |█████                           | 2.3 MB 5.7 MB/s eta 0:00:03\r\u001B[K     |█████                           | 2.3 MB 5.7 MB/s eta 0:00:03\r\u001B[K     |█████                           | 2.3 MB 5.7 MB/s eta 0:00:03\r\u001B[K     |█████                           | 2.3 MB 5.7 MB/s eta 0:00:03\r\u001B[K     |█████                           | 2.3 MB 5.7 MB/s eta 0:00:03\r\u001B[K     |█████                           | 2.3 MB 5.7 MB/s eta 0:00:03\r\u001B[K     |█████                           | 2.3 MB 5.7 MB/s eta 0:00:03\r\u001B[K     |█████▏                          | 2.3 MB 5.7 MB/s eta 0:00:03\r\u001B[K     |█████▏                          | 2.4 MB 5.7 MB/s eta 0:00:03\r\u001B[K     |█████▏                          | 2.4 MB 5.7 MB/s eta 0:00:03\r\u001B[K     |█████▏                          | 2.4 MB 5.7 MB/s eta 0:00:03\r\u001B[K     |█████▏                          | 2.4 MB 5.7 MB/s eta 0:00:03\r\u001B[K     |█████▎                          | 2.4 MB 5.7 MB/s eta 0:00:03\r\u001B[K     |█████▎                          | 2.4 MB 5.7 MB/s eta 0:00:03\r\u001B[K     |█████▎                          | 2.4 MB 5.7 MB/s eta 0:00:03\r\u001B[K     |█████▎                          | 2.4 MB 5.7 MB/s eta 0:00:03\r\u001B[K     |█████▎                          | 2.4 MB 5.7 MB/s eta 0:00:03\r\u001B[K     |█████▍                          | 2.4 MB 5.7 MB/s eta 0:00:03\r\u001B[K     |█████▍                          | 2.5 MB 5.7 MB/s eta 0:00:03\r\u001B[K     |█████▍                          | 2.5 MB 5.7 MB/s eta 0:00:03\r\u001B[K     |█████▍                          | 2.5 MB 5.7 MB/s eta 0:00:03\r\u001B[K     |█████▍                          | 2.5 MB 5.7 MB/s eta 0:00:03\r\u001B[K     |█████▌                          | 2.5 MB 5.7 MB/s eta 0:00:03\r\u001B[K     |█████▌                          | 2.5 MB 5.7 MB/s eta 0:00:03\r\u001B[K     |█████▌                          | 2.5 MB 5.7 MB/s eta 0:00:03\r\u001B[K     |█████▌                          | 2.5 MB 5.7 MB/s eta 0:00:03\r\u001B[K     |█████▌                          | 2.5 MB 5.7 MB/s eta 0:00:03\r\u001B[K     |█████▋                          | 2.5 MB 5.7 MB/s eta 0:00:03\r\u001B[K     |█████▋                          | 2.6 MB 5.7 MB/s eta 0:00:03\r\u001B[K     |█████▋                          | 2.6 MB 5.7 MB/s eta 0:00:03\r\u001B[K     |█████▋                          | 2.6 MB 5.7 MB/s eta 0:00:03\r\u001B[K     |█████▊                          | 2.6 MB 5.7 MB/s eta 0:00:03\r\u001B[K     |█████▊                          | 2.6 MB 5.7 MB/s eta 0:00:03\r\u001B[K     |█████▊                          | 2.6 MB 5.7 MB/s eta 0:00:03\r\u001B[K     |█████▊                          | 2.6 MB 5.7 MB/s eta 0:00:03\r\u001B[K     |█████▊                          | 2.6 MB 5.7 MB/s eta 0:00:03\r\u001B[K     |█████▉                          | 2.6 MB 5.7 MB/s eta 0:00:03\r\u001B[K     |█████▉                          | 2.7 MB 5.7 MB/s eta 0:00:03\r\u001B[K     |█████▉                          | 2.7 MB 5.7 MB/s eta 0:00:03\r\u001B[K     |█████▉                          | 2.7 MB 5.7 MB/s eta 0:00:03\r\u001B[K     |█████▉                          | 2.7 MB 5.7 MB/s eta 0:00:03\r\u001B[K     |██████                          | 2.7 MB 5.7 MB/s eta 0:00:03\r\u001B[K     |██████                          | 2.7 MB 5.7 MB/s eta 0:00:03\r\u001B[K     |██████                          | 2.7 MB 5.7 MB/s eta 0:00:03\r\u001B[K     |██████                          | 2.7 MB 5.7 MB/s eta 0:00:03\r\u001B[K     |██████                          | 2.7 MB 5.7 MB/s eta 0:00:03\r\u001B[K     |██████                          | 2.7 MB 5.7 MB/s eta 0:00:03\r\u001B[K     |██████                          | 2.8 MB 5.7 MB/s eta 0:00:03\r\u001B[K     |██████                          | 2.8 MB 5.7 MB/s eta 0:00:03\r\u001B[K     |██████                          | 2.8 MB 5.7 MB/s eta 0:00:03\r\u001B[K     |██████                          | 2.8 MB 5.7 MB/s eta 0:00:03\r\u001B[K     |██████▏                         | 2.8 MB 5.7 MB/s eta 0:00:03\r\u001B[K     |██████▏                         | 2.8 MB 5.7 MB/s eta 0:00:03\r\u001B[K     |██████▏                         | 2.8 MB 5.7 MB/s eta 0:00:03\r\u001B[K     |██████▏                         | 2.8 MB 5.7 MB/s eta 0:00:03\r\u001B[K     |██████▏                         | 2.8 MB 5.7 MB/s eta 0:00:03\r\u001B[K     |██████▎                         | 2.8 MB 5.7 MB/s eta 0:00:03\r\u001B[K     |██████▎                         | 2.9 MB 5.7 MB/s eta 0:00:03\r\u001B[K     |██████▎                         | 2.9 MB 5.7 MB/s eta 0:00:03\r\u001B[K     |██████▎                         | 2.9 MB 5.7 MB/s eta 0:00:03\r\u001B[K     |██████▎                         | 2.9 MB 5.7 MB/s eta 0:00:03\r\u001B[K     |██████▍                         | 2.9 MB 5.7 MB/s eta 0:00:03\r\u001B[K     |██████▍                         | 2.9 MB 5.7 MB/s eta 0:00:03\r\u001B[K     |██████▍                         | 2.9 MB 5.7 MB/s eta 0:00:03\r\u001B[K     |██████▍                         | 2.9 MB 5.7 MB/s eta 0:00:03\r\u001B[K     |██████▍                         | 2.9 MB 5.7 MB/s eta 0:00:03\r\u001B[K     |██████▌                         | 2.9 MB 5.7 MB/s eta 0:00:03\r\u001B[K     |██████▌                         | 3.0 MB 5.7 MB/s eta 0:00:03\r\u001B[K     |██████▌                         | 3.0 MB 5.7 MB/s eta 0:00:03\r\u001B[K     |██████▌                         | 3.0 MB 5.7 MB/s eta 0:00:03\r\u001B[K     |██████▌                         | 3.0 MB 5.7 MB/s eta 0:00:03\r\u001B[K     |██████▋                         | 3.0 MB 5.7 MB/s eta 0:00:03\r\u001B[K     |██████▋                         | 3.0 MB 5.7 MB/s eta 0:00:03\r\u001B[K     |██████▋                         | 3.0 MB 5.7 MB/s eta 0:00:03\r\u001B[K     |██████▋                         | 3.0 MB 5.7 MB/s eta 0:00:03\r\u001B[K     |██████▋                         | 3.0 MB 5.7 MB/s eta 0:00:03\r\u001B[K     |██████▊                         | 3.1 MB 5.7 MB/s eta 0:00:03\r\u001B[K     |██████▊                         | 3.1 MB 5.7 MB/s eta 0:00:03\r\u001B[K     |██████▊                         | 3.1 MB 5.7 MB/s eta 0:00:03\r\u001B[K     |██████▊                         | 3.1 MB 5.7 MB/s eta 0:00:03\r\u001B[K     |██████▊                         | 3.1 MB 5.7 MB/s eta 0:00:03\r\u001B[K     |██████▉                         | 3.1 MB 5.7 MB/s eta 0:00:03\r\u001B[K     |██████▉                         | 3.1 MB 5.7 MB/s eta 0:00:03\r\u001B[K     |██████▉                         | 3.1 MB 5.7 MB/s eta 0:00:03\r\u001B[K     |██████▉                         | 3.1 MB 5.7 MB/s eta 0:00:03\r\u001B[K     |██████▉                         | 3.1 MB 5.7 MB/s eta 0:00:03\r\u001B[K     |███████                         | 3.2 MB 5.7 MB/s eta 0:00:03\r\u001B[K     |███████                         | 3.2 MB 5.7 MB/s eta 0:00:02\r\u001B[K     |███████                         | 3.2 MB 5.7 MB/s eta 0:00:02\r\u001B[K     |███████                         | 3.2 MB 5.7 MB/s eta 0:00:02\r\u001B[K     |███████                         | 3.2 MB 5.7 MB/s eta 0:00:02\r\u001B[K     |███████                         | 3.2 MB 5.7 MB/s eta 0:00:02\r\u001B[K     |███████                         | 3.2 MB 5.7 MB/s eta 0:00:02\r\u001B[K     |███████                         | 3.2 MB 5.7 MB/s eta 0:00:02\r\u001B[K     |███████                         | 3.2 MB 5.7 MB/s eta 0:00:02\r\u001B[K     |███████                         | 3.2 MB 5.7 MB/s eta 0:00:02\r\u001B[K     |███████▏                        | 3.3 MB 5.7 MB/s eta 0:00:02\r\u001B[K     |███████▏                        | 3.3 MB 5.7 MB/s eta 0:00:02\r\u001B[K     |███████▏                        | 3.3 MB 5.7 MB/s eta 0:00:02\r\u001B[K     |███████▏                        | 3.3 MB 5.7 MB/s eta 0:00:02\r\u001B[K     |███████▏                        | 3.3 MB 5.7 MB/s eta 0:00:02\r\u001B[K     |███████▎                        | 3.3 MB 5.7 MB/s eta 0:00:02\r\u001B[K     |███████▎                        | 3.3 MB 5.7 MB/s eta 0:00:02\r\u001B[K     |███████▎                        | 3.3 MB 5.7 MB/s eta 0:00:02\r\u001B[K     |███████▎                        | 3.3 MB 5.7 MB/s eta 0:00:02\r\u001B[K     |███████▎                        | 3.3 MB 5.7 MB/s eta 0:00:02\r\u001B[K     |███████▍                        | 3.4 MB 5.7 MB/s eta 0:00:02\r\u001B[K     |███████▍                        | 3.4 MB 5.7 MB/s eta 0:00:02\r\u001B[K     |███████▍                        | 3.4 MB 5.7 MB/s eta 0:00:02\r\u001B[K     |███████▍                        | 3.4 MB 5.7 MB/s eta 0:00:02\r\u001B[K     |███████▍                        | 3.4 MB 5.7 MB/s eta 0:00:02\r\u001B[K     |███████▌                        | 3.4 MB 5.7 MB/s eta 0:00:02\r\u001B[K     |███████▌                        | 3.4 MB 5.7 MB/s eta 0:00:02\r\u001B[K     |███████▌                        | 3.4 MB 5.7 MB/s eta 0:00:02\r\u001B[K     |███████▌                        | 3.4 MB 5.7 MB/s eta 0:00:02\r\u001B[K     |███████▌                        | 3.5 MB 5.7 MB/s eta 0:00:02\r\u001B[K     |███████▋                        | 3.5 MB 5.7 MB/s eta 0:00:02\r\u001B[K     |███████▋                        | 3.5 MB 5.7 MB/s eta 0:00:02\r\u001B[K     |███████▋                        | 3.5 MB 5.7 MB/s eta 0:00:02\r\u001B[K     |███████▋                        | 3.5 MB 5.7 MB/s eta 0:00:02\r\u001B[K     |███████▋                        | 3.5 MB 5.7 MB/s eta 0:00:02\r\u001B[K     |███████▊                        | 3.5 MB 5.7 MB/s eta 0:00:02\r\u001B[K     |███████▊                        | 3.5 MB 5.7 MB/s eta 0:00:02\r\u001B[K     |███████▊                        | 3.5 MB 5.7 MB/s eta 0:00:02\r\u001B[K     |███████▊                        | 3.5 MB 5.7 MB/s eta 0:00:02\r\u001B[K     |███████▊                        | 3.6 MB 5.7 MB/s eta 0:00:02\r\u001B[K     |███████▉                        | 3.6 MB 5.7 MB/s eta 0:00:02\r\u001B[K     |███████▉                        | 3.6 MB 5.7 MB/s eta 0:00:02\r\u001B[K     |███████▉                        | 3.6 MB 5.7 MB/s eta 0:00:02\r\u001B[K     |███████▉                        | 3.6 MB 5.7 MB/s eta 0:00:\n\n*** WARNING: max output size exceeded, skipping output. ***\n\n80 kB 10.0 MB/s \r\n\u001B[?25hCollecting importlib-metadata!=4.7.0,>=3.7.0\r\n  Downloading importlib_metadata-7.0.1-py3-none-any.whl (23 kB)\r\nRequirement already satisfied: numpy in /databricks/python3/lib/python3.9/site-packages (from mlflow==1.20.2) (1.21.5)\r\nCollecting pyyaml>=5.1\r\n  Downloading PyYAML-6.0.1-cp39-cp39-manylinux_2_17_x86_64.manylinux2014_x86_64.whl (738 kB)\r\n\u001B[?25l\r\u001B[K     |▍                               | 10 kB 25.3 MB/s eta 0:00:01\r\u001B[K     |▉                               | 20 kB 30.6 MB/s eta 0:00:01\r\u001B[K     |█▎                              | 30 kB 37.6 MB/s eta 0:00:01\r\u001B[K     |█▊                              | 40 kB 41.6 MB/s eta 0:00:01\r\u001B[K     |██▏                             | 51 kB 42.7 MB/s eta 0:00:01\r\u001B[K     |██▋                             | 61 kB 45.4 MB/s eta 0:00:01\r\u001B[K     |███                             | 71 kB 46.9 MB/s eta 0:00:01\r\u001B[K     |███▌                            | 81 kB 47.4 MB/s eta 0:00:01\r\u001B[K     |████                            | 92 kB 48.6 MB/s eta 0:00:01\r\u001B[K     |████▍                           | 102 kB 49.5 MB/s eta 0:00:01\r\u001B[K     |████▉                           | 112 kB 49.5 MB/s eta 0:00:01\r\u001B[K     |█████▎                          | 122 kB 49.5 MB/s eta 0:00:01\r\u001B[K     |█████▊                          | 133 kB 49.5 MB/s eta 0:00:01\r\u001B[K     |██████▏                         | 143 kB 49.5 MB/s eta 0:00:01\r\u001B[K     |██████▋                         | 153 kB 49.5 MB/s eta 0:00:01\r\u001B[K     |███████                         | 163 kB 49.5 MB/s eta 0:00:01\r\u001B[K     |███████▌                        | 174 kB 49.5 MB/s eta 0:00:01\r\u001B[K     |████████                        | 184 kB 49.5 MB/s eta 0:00:01\r\u001B[K     |████████▍                       | 194 kB 49.5 MB/s eta 0:00:01\r\u001B[K     |████████▉                       | 204 kB 49.5 MB/s eta 0:00:01\r\u001B[K     |█████████▎                      | 215 kB 49.5 MB/s eta 0:00:01\r\u001B[K     |█████████▊                      | 225 kB 49.5 MB/s eta 0:00:01\r\u001B[K     |██████████▏                     | 235 kB 49.5 MB/s eta 0:00:01\r\u001B[K     |██████████▋                     | 245 kB 49.5 MB/s eta 0:00:01\r\u001B[K     |███████████                     | 256 kB 49.5 MB/s eta 0:00:01\r\u001B[K     |███████████▌                    | 266 kB 49.5 MB/s eta 0:00:01\r\u001B[K     |████████████                    | 276 kB 49.5 MB/s eta 0:00:01\r\u001B[K     |████████████▍                   | 286 kB 49.5 MB/s eta 0:00:01\r\u001B[K     |████████████▉                   | 296 kB 49.5 MB/s eta 0:00:01\r\u001B[K     |█████████████▎                  | 307 kB 49.5 MB/s eta 0:00:01\r\u001B[K     |█████████████▊                  | 317 kB 49.5 MB/s eta 0:00:01\r\u001B[K     |██████████████▏                 | 327 kB 49.5 MB/s eta 0:00:01\r\u001B[K     |██████████████▋                 | 337 kB 49.5 MB/s eta 0:00:01\r\u001B[K     |███████████████                 | 348 kB 49.5 MB/s eta 0:00:01\r\u001B[K     |███████████████▌                | 358 kB 49.5 MB/s eta 0:00:01\r\u001B[K     |████████████████                | 368 kB 49.5 MB/s eta 0:00:01\r\u001B[K     |████████████████▍               | 378 kB 49.5 MB/s eta 0:00:01\r\u001B[K     |████████████████▉               | 389 kB 49.5 MB/s eta 0:00:01\r\u001B[K     |█████████████████▎              | 399 kB 49.5 MB/s eta 0:00:01\r\u001B[K     |█████████████████▊              | 409 kB 49.5 MB/s eta 0:00:01\r\u001B[K     |██████████████████▏             | 419 kB 49.5 MB/s eta 0:00:01\r\u001B[K     |██████████████████▋             | 430 kB 49.5 MB/s eta 0:00:01\r\u001B[K     |███████████████████             | 440 kB 49.5 MB/s eta 0:00:01\r\u001B[K     |███████████████████▌            | 450 kB 49.5 MB/s eta 0:00:01\r\u001B[K     |████████████████████            | 460 kB 49.5 MB/s eta 0:00:01\r\u001B[K     |████████████████████▍           | 471 kB 49.5 MB/s eta 0:00:01\r\u001B[K     |████████████████████▉           | 481 kB 49.5 MB/s eta 0:00:01\r\u001B[K     |█████████████████████▎          | 491 kB 49.5 MB/s eta 0:00:01\r\u001B[K     |█████████████████████▊          | 501 kB 49.5 MB/s eta 0:00:01\r\u001B[K     |██████████████████████▏         | 512 kB 49.5 MB/s eta 0:00:01\r\u001B[K     |██████████████████████▋         | 522 kB 49.5 MB/s eta 0:00:01\r\u001B[K     |███████████████████████         | 532 kB 49.5 MB/s eta 0:00:01\r\u001B[K     |███████████████████████▌        | 542 kB 49.5 MB/s eta 0:00:01\r\u001B[K     |████████████████████████        | 552 kB 49.5 MB/s eta 0:00:01\r\u001B[K     |████████████████████████▍       | 563 kB 49.5 MB/s eta 0:00:01\r\u001B[K     |████████████████████████▉       | 573 kB 49.5 MB/s eta 0:00:01\r\u001B[K     |█████████████████████████▎      | 583 kB 49.5 MB/s eta 0:00:01\r\u001B[K     |█████████████████████████▊      | 593 kB 49.5 MB/s eta 0:00:01\r\u001B[K     |██████████████████████████▏     | 604 kB 49.5 MB/s eta 0:00:01\r\u001B[K     |██████████████████████████▋     | 614 kB 49.5 MB/s eta 0:00:01\r\u001B[K     |███████████████████████████     | 624 kB 49.5 MB/s eta 0:00:01\r\u001B[K     |███████████████████████████▌    | 634 kB 49.5 MB/s eta 0:00:01\r\u001B[K     |████████████████████████████    | 645 kB 49.5 MB/s eta 0:00:01\r\u001B[K     |████████████████████████████▍   | 655 kB 49.5 MB/s eta 0:00:01\r\u001B[K     |████████████████████████████▉   | 665 kB 49.5 MB/s eta 0:00:01\r\u001B[K     |█████████████████████████████▎  | 675 kB 49.5 MB/s eta 0:00:01\r\u001B[K     |█████████████████████████████▊  | 686 kB 49.5 MB/s eta 0:00:01\r\u001B[K     |██████████████████████████████▏ | 696 kB 49.5 MB/s eta 0:00:01\r\u001B[K     |██████████████████████████████▋ | 706 kB 49.5 MB/s eta 0:00:01\r\u001B[K     |███████████████████████████████ | 716 kB 49.5 MB/s eta 0:00:01\r\u001B[K     |███████████████████████████████▌| 727 kB 49.5 MB/s eta 0:00:01\r\u001B[K     |████████████████████████████████| 737 kB 49.5 MB/s eta 0:00:01\r\u001B[K     |████████████████████████████████| 738 kB 49.5 MB/s \r\n\u001B[?25hCollecting gitpython>=2.1.0\r\n  Downloading GitPython-3.1.40-py3-none-any.whl (190 kB)\r\n\u001B[?25l\r\u001B[K     |█▊                              | 10 kB 35.1 MB/s eta 0:00:01\r\u001B[K     |███▍                            | 20 kB 40.1 MB/s eta 0:00:01\r\u001B[K     |█████▏                          | 30 kB 42.4 MB/s eta 0:00:01\r\u001B[K     |██████▉                         | 40 kB 44.6 MB/s eta 0:00:01\r\u001B[K     |████████▋                       | 51 kB 43.1 MB/s eta 0:00:01\r\u001B[K     |██████████▎                     | 61 kB 37.5 MB/s eta 0:00:01\r\u001B[K     |████████████                    | 71 kB 38.8 MB/s eta 0:00:01\r\u001B[K     |█████████████▊                  | 81 kB 39.6 MB/s eta 0:00:01\r\u001B[K     |███████████████▌                | 92 kB 40.6 MB/s eta 0:00:01\r\u001B[K     |█████████████████▏              | 102 kB 38.4 MB/s eta 0:00:01\r\u001B[K     |███████████████████             | 112 kB 38.4 MB/s eta 0:00:01\r\u001B[K     |████████████████████▋           | 122 kB 38.4 MB/s eta 0:00:01\r\u001B[K     |██████████████████████▍         | 133 kB 38.4 MB/s eta 0:00:01\r\u001B[K     |████████████████████████        | 143 kB 38.4 MB/s eta 0:00:01\r\u001B[K     |█████████████████████████▉      | 153 kB 38.4 MB/s eta 0:00:01\r\u001B[K     |███████████████████████████▌    | 163 kB 38.4 MB/s eta 0:00:01\r\u001B[K     |█████████████████████████████▎  | 174 kB 38.4 MB/s eta 0:00:01\r\u001B[K     |███████████████████████████████ | 184 kB 38.4 MB/s eta 0:00:01\r\u001B[K     |████████████████████████████████| 190 kB 38.4 MB/s \r\n\u001B[?25hRequirement already satisfied: requests>=2.17.3 in /databricks/python3/lib/python3.9/site-packages (from mlflow==1.20.2) (2.27.1)\r\nCollecting databricks-cli>=0.8.7\r\n  Downloading databricks_cli-0.18.0-py2.py3-none-any.whl (150 kB)\r\n\u001B[?25l\r\u001B[K     |██▏                             | 10 kB 8.9 MB/s eta 0:00:01\r\u001B[K     |████▍                           | 20 kB 14.4 MB/s eta 0:00:01\r\u001B[K     |██████▌                         | 30 kB 18.8 MB/s eta 0:00:01\r\u001B[K     |████████▊                       | 40 kB 22.1 MB/s eta 0:00:01\r\u001B[K     |███████████                     | 51 kB 24.7 MB/s eta 0:00:01\r\u001B[K     |█████████████                   | 61 kB 26.7 MB/s eta 0:00:01\r\u001B[K     |███████████████▎                | 71 kB 28.3 MB/s eta 0:00:01\r\u001B[K     |█████████████████▍              | 81 kB 29.6 MB/s eta 0:00:01\r\u001B[K     |███████████████████▋            | 92 kB 30.9 MB/s eta 0:00:01\r\u001B[K     |█████████████████████▉          | 102 kB 31.9 MB/s eta 0:00:01\r\u001B[K     |████████████████████████        | 112 kB 31.9 MB/s eta 0:00:01\r\u001B[K     |██████████████████████████▏     | 122 kB 31.9 MB/s eta 0:00:01\r\u001B[K     |████████████████████████████▍   | 133 kB 31.9 MB/s eta 0:00:01\r\u001B[K     |██████████████████████████████▌ | 143 kB 31.9 MB/s eta 0:00:01\r\u001B[K     |████████████████████████████████| 150 kB 31.9 MB/s \r\n\u001B[?25hCollecting docker>=4.0.0\r\n  Downloading docker-7.0.0-py3-none-any.whl (147 kB)\r\n\u001B[?25l\r\u001B[K     |██▏                             | 10 kB 27.0 MB/s eta 0:00:01\r\u001B[K     |████▍                           | 20 kB 32.9 MB/s eta 0:00:01\r\u001B[K     |██████▋                         | 30 kB 39.2 MB/s eta 0:00:01\r\u001B[K     |████████▉                       | 40 kB 42.8 MB/s eta 0:00:01\r\u001B[K     |███████████                     | 51 kB 45.1 MB/s eta 0:00:01\r\u001B[K     |█████████████▎                  | 61 kB 47.1 MB/s eta 0:00:01\r\u001B[K     |███████████████▌                | 71 kB 48.4 MB/s eta 0:00:01\r\u001B[K     |█████████████████▊              | 81 kB 50.0 MB/s eta 0:00:01\r\u001B[K     |████████████████████            | 92 kB 50.1 MB/s eta 0:00:01\r\u001B[K     |██████████████████████▏         | 102 kB 51.4 MB/s eta 0:00:01\r\u001B[K     |████████████████████████▍       | 112 kB 51.4 MB/s eta 0:00:01\r\u001B[K     |██████████████████████████▋     | 122 kB 51.4 MB/s eta 0:00:01\r\u001B[K     |████████████████████████████▉   | 133 kB 51.4 MB/s eta 0:00:01\r\u001B[K     |███████████████████████████████ | 143 kB 51.4 MB/s eta 0:00:01\r\u001B[K     |████████████████████████████████| 147 kB 51.4 MB/s \r\n\u001B[?25hCollecting Mako\r\n  Downloading Mako-1.3.0-py3-none-any.whl (78 kB)\r\n\u001B[?25l\r\u001B[K     |████▏                           | 10 kB 36.8 MB/s eta 0:00:01\r\u001B[K     |████████▍                       | 20 kB 41.9 MB/s eta 0:00:01\r\u001B[K     |████████████▌                   | 30 kB 48.5 MB/s eta 0:00:01\r\u001B[K     |████████████████▊               | 40 kB 49.1 MB/s eta 0:00:01\r\u001B[K     |████████████████████▉           | 51 kB 47.7 MB/s eta 0:00:01\r\u001B[K     |█████████████████████████       | 61 kB 50.1 MB/s eta 0:00:01\r\u001B[K     |█████████████████████████████▏  | 71 kB 51.9 MB/s eta 0:00:01\r\u001B[K     |████████████████████████████████| 78 kB 10.9 MB/s \r\n\u001B[?25hCollecting python-editor>=0.3\r\n  Downloading python_editor-1.0.4-py3-none-any.whl (4.9 kB)\r\nRequirement already satisfied: python-dateutil in /databricks/python3/lib/python3.9/site-packages (from alembic<=1.4.1->mlflow==1.20.2) (2.8.2)\r\nRequirement already satisfied: urllib3<3,>=1.26.7 in /databricks/python3/lib/python3.9/site-packages (from databricks-cli>=0.8.7->mlflow==1.20.2) (1.26.9)\r\nCollecting tabulate>=0.7.7\r\n  Downloading tabulate-0.9.0-py3-none-any.whl (35 kB)\r\nRequirement already satisfied: six>=1.10.0 in /databricks/python3/lib/python3.9/site-packages (from databricks-cli>=0.8.7->mlflow==1.20.2) (1.16.0)\r\nCollecting oauthlib>=3.1.0\r\n  Downloading oauthlib-3.2.2-py3-none-any.whl (151 kB)\r\n\u001B[?25l\r\u001B[K     |██▏                             | 10 kB 37.5 MB/s eta 0:00:01\r\u001B[K     |████▎                           | 20 kB 35.9 MB/s eta 0:00:01\r\u001B[K     |██████▌                         | 30 kB 42.5 MB/s eta 0:00:01\r\u001B[K     |████████▋                       | 40 kB 45.6 MB/s eta 0:00:01\r\u001B[K     |██████████▉                     | 51 kB 46.4 MB/s eta 0:00:01\r\u001B[K     |█████████████                   | 61 kB 49.4 MB/s eta 0:00:01\r\u001B[K     |███████████████▏                | 71 kB 50.9 MB/s eta 0:00:01\r\u001B[K     |█████████████████▎              | 81 kB 51.9 MB/s eta 0:00:01\r\u001B[K     |███████████████████▍            | 92 kB 53.0 MB/s eta 0:00:01\r\u001B[K     |█████████████████████▋          | 102 kB 53.5 MB/s eta 0:00:01\r\u001B[K     |███████████████████████▊        | 112 kB 53.5 MB/s eta 0:00:01\r\u001B[K     |██████████████████████████      | 122 kB 53.5 MB/s eta 0:00:01\r\u001B[K     |████████████████████████████    | 133 kB 53.5 MB/s eta 0:00:01\r\u001B[K     |██████████████████████████████▎ | 143 kB 53.5 MB/s eta 0:00:01\r\u001B[K     |████████████████████████████████| 151 kB 53.5 MB/s \r\n\u001B[?25hCollecting pyjwt>=1.7.0\r\n  Downloading PyJWT-2.8.0-py3-none-any.whl (22 kB)\r\nCollecting gitdb<5,>=4.0.1\r\n  Downloading gitdb-4.0.11-py3-none-any.whl (62 kB)\r\n\u001B[?25l\r\u001B[K     |█████▎                          | 10 kB 33.0 MB/s eta 0:00:01\r\u001B[K     |██████████▌                     | 20 kB 39.9 MB/s eta 0:00:01\r\u001B[K     |███████████████▊                | 30 kB 45.7 MB/s eta 0:00:01\r\u001B[K     |█████████████████████           | 40 kB 45.3 MB/s eta 0:00:01\r\u001B[K     |██████████████████████████▏     | 51 kB 47.3 MB/s eta 0:00:01\r\u001B[K     |███████████████████████████████▍| 61 kB 50.7 MB/s eta 0:00:01\r\u001B[K     |████████████████████████████████| 62 kB 2.1 MB/s \r\n\u001B[?25hCollecting smmap<6,>=3.0.1\r\n  Downloading smmap-5.0.1-py3-none-any.whl (24 kB)\r\nCollecting zipp>=0.5\r\n  Using cached zipp-3.17.0-py3-none-any.whl (7.4 kB)\r\nRequirement already satisfied: pyparsing!=3.0.5,>=2.0.2 in /databricks/python3/lib/python3.9/site-packages (from packaging->mlflow==1.20.2) (3.0.4)\r\nRequirement already satisfied: idna<4,>=2.5 in /databricks/python3/lib/python3.9/site-packages (from requests>=2.17.3->mlflow==1.20.2) (3.3)\r\nRequirement already satisfied: charset-normalizer~=2.0.0 in /databricks/python3/lib/python3.9/site-packages (from requests>=2.17.3->mlflow==1.20.2) (2.0.4)\r\nRequirement already satisfied: certifi>=2017.4.17 in /databricks/python3/lib/python3.9/site-packages (from requests>=2.17.3->mlflow==1.20.2) (2021.10.8)\r\nCollecting greenlet!=0.4.17\r\n  Downloading greenlet-3.0.3-cp39-cp39-manylinux_2_24_x86_64.manylinux_2_28_x86_64.whl (614 kB)\r\n\u001B[?25l\r\u001B[K     |▌                               | 10 kB 28.1 MB/s eta 0:00:01\r\u001B[K     |█                               | 20 kB 34.4 MB/s eta 0:00:01\r\u001B[K     |█▋                              | 30 kB 40.8 MB/s eta 0:00:01\r\u001B[K     |██▏                             | 40 kB 44.7 MB/s eta 0:00:01\r\u001B[K     |██▊                             | 51 kB 47.2 MB/s eta 0:00:01\r\u001B[K     |███▏                            | 61 kB 49.9 MB/s eta 0:00:01\r\u001B[K     |███▊                            | 71 kB 49.6 MB/s eta 0:00:01\r\u001B[K     |████▎                           | 81 kB 50.0 MB/s eta 0:00:01\r\u001B[K     |████▉                           | 92 kB 50.9 MB/s eta 0:00:01\r\u001B[K     |█████▍                          | 102 kB 52.1 MB/s eta 0:00:01\r\u001B[K     |█████▉                          | 112 kB 52.1 MB/s eta 0:00:01\r\u001B[K     |██████▍                         | 122 kB 52.1 MB/s eta 0:00:01\r\u001B[K     |███████                         | 133 kB 52.1 MB/s eta 0:00:01\r\u001B[K     |███████▌                        | 143 kB 52.1 MB/s eta 0:00:01\r\u001B[K     |████████                        | 153 kB 52.1 MB/s eta 0:00:01\r\u001B[K     |████████▌                       | 163 kB 52.1 MB/s eta 0:00:01\r\u001B[K     |█████████                       | 174 kB 52.1 MB/s eta 0:00:01\r\u001B[K     |█████████▋                      | 184 kB 52.1 MB/s eta 0:00:01\r\u001B[K     |██████████▏                     | 194 kB 52.1 MB/s eta 0:00:01\r\u001B[K     |██████████▊                     | 204 kB 52.1 MB/s eta 0:00:01\r\u001B[K     |███████████▏                    | 215 kB 52.1 MB/s eta 0:00:01\r\u001B[K     |███████████▊                    | 225 kB 52.1 MB/s eta 0:00:01\r\u001B[K     |████████████▎                   | 235 kB 52.1 MB/s eta 0:00:01\r\u001B[K     |████████████▉                   | 245 kB 52.1 MB/s eta 0:00:01\r\u001B[K     |█████████████▍                  | 256 kB 52.1 MB/s eta 0:00:01\r\u001B[K     |█████████████▉                  | 266 kB 52.1 MB/s eta 0:00:01\r\u001B[K     |██████████████▍                 | 276 kB 52.1 MB/s eta 0:00:01\r\u001B[K     |███████████████                 | 286 kB 52.1 MB/s eta 0:00:01\r\u001B[K     |███████████████▌                | 296 kB 52.1 MB/s eta 0:00:01\r\u001B[K     |████████████████                | 307 kB 52.1 MB/s eta 0:00:01\r\u001B[K     |████████████████▌               | 317 kB 52.1 MB/s eta 0:00:01\r\u001B[K     |█████████████████               | 327 kB 52.1 MB/s eta 0:00:01\r\u001B[K     |█████████████████▋              | 337 kB 52.1 MB/s eta 0:00:01\r\u001B[K     |██████████████████▏             | 348 kB 52.1 MB/s eta 0:00:01\r\u001B[K     |██████████████████▊             | 358 kB 52.1 MB/s eta 0:00:01\r\u001B[K     |███████████████████▏            | 368 kB 52.1 MB/s eta 0:00:01\r\u001B[K     |███████████████████▊            | 378 kB 52.1 MB/s eta 0:00:01\r\u001B[K     |████████████████████▎           | 389 kB 52.1 MB/s eta 0:00:01\r\u001B[K     |████████████████████▉           | 399 kB 52.1 MB/s eta 0:00:01\r\u001B[K     |█████████████████████▍          | 409 kB 52.1 MB/s eta 0:00:01\r\u001B[K     |█████████████████████▉          | 419 kB 52.1 MB/s eta 0:00:01\r\u001B[K     |██████████████████████▍         | 430 kB 52.1 MB/s eta 0:00:01\r\u001B[K     |███████████████████████         | 440 kB 52.1 MB/s eta 0:00:01\r\u001B[K     |███████████████████████▌        | 450 kB 52.1 MB/s eta 0:00:01\r\u001B[K     |████████████████████████        | 460 kB 52.1 MB/s eta 0:00:01\r\u001B[K     |████████████████████████▌       | 471 kB 52.1 MB/s eta 0:00:01\r\u001B[K     |█████████████████████████       | 481 kB 52.1 MB/s eta 0:00:01\r\u001B[K     |█████████████████████████▋      | 491 kB 52.1 MB/s eta 0:00:01\r\u001B[K     |██████████████████████████▏     | 501 kB 52.1 MB/s eta 0:00:01\r\u001B[K     |██████████████████████████▊     | 512 kB 52.1 MB/s eta 0:00:01\r\u001B[K     |███████████████████████████▏    | 522 kB 52.1 MB/s eta 0:00:01\r\u001B[K     |███████████████████████████▊    | 532 kB 52.1 MB/s eta 0:00:01\r\u001B[K     |████████████████████████████▎   | 542 kB 52.1 MB/s eta 0:00:01\r\u001B[K     |████████████████████████████▉   | 552 kB 52.1 MB/s eta 0:00:01\r\u001B[K     |█████████████████████████████▍  | 563 kB 52.1 MB/s eta 0:00:01\r\u001B[K     |█████████████████████████████▉  | 573 kB 52.1 MB/s eta 0:00:01\r\u001B[K     |██████████████████████████████▍ | 583 kB 52.1 MB/s eta 0:00:01\r\u001B[K     |███████████████████████████████ | 593 kB 52.1 MB/s eta 0:00:01\r\u001B[K     |███████████████████████████████▌| 604 kB 52.1 MB/s eta 0:00:01\r\u001B[K     |████████████████████████████████| 614 kB 52.1 MB/s \r\n\u001B[?25hCollecting typing-extensions>=4.6.0\r\n  Downloading typing_extensions-4.9.0-py3-none-any.whl (32 kB)\r\nCollecting Werkzeug>=3.0.0\r\n  Downloading werkzeug-3.0.1-py3-none-any.whl (226 kB)\r\n\u001B[?25l\r\u001B[K     |█▌                              | 10 kB 36.0 MB/s eta 0:00:01\r\u001B[K     |███                             | 20 kB 42.1 MB/s eta 0:00:01\r\u001B[K     |████▍                           | 30 kB 46.7 MB/s eta 0:00:01\r\u001B[K     |█████▉                          | 40 kB 47.1 MB/s eta 0:00:01\r\u001B[K     |███████▎                        | 51 kB 48.5 MB/s eta 0:00:01\r\u001B[K     |████████▊                       | 61 kB 51.3 MB/s eta 0:00:01\r\u001B[K     |██████████▏                     | 71 kB 51.2 MB/s eta 0:00:01\r\u001B[K     |███████████▋                    | 81 kB 52.2 MB/s eta 0:00:01\r\u001B[K     |█████████████                   | 92 kB 53.4 MB/s eta 0:00:01\r\u001B[K     |██████████████▌                 | 102 kB 54.4 MB/s eta 0:00:01\r\u001B[K     |████████████████                | 112 kB 54.4 MB/s eta 0:00:01\r\u001B[K     |█████████████████▍              | 122 kB 54.4 MB/s eta 0:00:01\r\u001B[K     |██████████████████▉             | 133 kB 54.4 MB/s eta 0:00:01\r\u001B[K     |████████████████████▎           | 143 kB 54.4 MB/s eta 0:00:01\r\u001B[K     |█████████████████████▊          | 153 kB 54.4 MB/s eta 0:00:01\r\u001B[K     |███████████████████████▏        | 163 kB 54.4 MB/s eta 0:00:01\r\u001B[K     |████████████████████████▋       | 174 kB 54.4 MB/s eta 0:00:01\r\u001B[K     |██████████████████████████      | 184 kB 54.4 MB/s eta 0:00:01\r\u001B[K     |███████████████████████████▌    | 194 kB 54.4 MB/s eta 0:00:01\r\u001B[K     |█████████████████████████████   | 204 kB 54.4 MB/s eta 0:00:01\r\u001B[K     |██████████████████████████████▍ | 215 kB 54.4 MB/s eta 0:00:01\r\u001B[K     |███████████████████████████████▉| 225 kB 54.4 MB/s eta 0:00:01\r\u001B[K     |████████████████████████████████| 226 kB 54.4 MB/s \r\n\u001B[?25hCollecting click>=7.0\r\n  Downloading click-8.1.7-py3-none-any.whl (97 kB)\r\n\u001B[?25l\r\u001B[K     |███▍                            | 10 kB 33.1 MB/s eta 0:00:01\r\u001B[K     |██████▊                         | 20 kB 38.7 MB/s eta 0:00:01\r\u001B[K     |██████████                      | 30 kB 44.2 MB/s eta 0:00:01\r\u001B[K     |█████████████▍                  | 40 kB 47.0 MB/s eta 0:00:01\r\u001B[K     |████████████████▊               | 51 kB 48.2 MB/s eta 0:00:01\r\u001B[K     |████████████████████            | 61 kB 51.1 MB/s eta 0:00:01\r\u001B[K     |███████████████████████▍        | 71 kB 51.1 MB/s eta 0:00:01\r\u001B[K     |██████████████████████████▊     | 81 kB 51.7 MB/s eta 0:00:01\r\u001B[K     |██████████████████████████████▏ | 92 kB 52.7 MB/s eta 0:00:01\r\u001B[K     |████████████████████████████████| 97 kB 10.7 MB/s \r\n\u001B[?25hCollecting blinker>=1.6.2\r\n  Downloading blinker-1.7.0-py3-none-any.whl (13 kB)\r\nCollecting Jinja2>=3.1.2\r\n  Downloading Jinja2-3.1.2-py3-none-any.whl (133 kB)\r\n\u001B[?25l\r\u001B[K     |██▌                             | 10 kB 29.2 MB/s eta 0:00:01\r\u001B[K     |█████                           | 20 kB 35.9 MB/s eta 0:00:01\r\u001B[K     |███████▍                        | 30 kB 42.2 MB/s eta 0:00:01\r\u001B[K     |█████████▉                      | 40 kB 46.4 MB/s eta 0:00:01\r\u001B[K     |████████████▎                   | 51 kB 47.1 MB/s eta 0:00:01\r\u001B[K     |██████████████▊                 | 61 kB 49.4 MB/s eta 0:00:01\r\u001B[K     |█████████████████▎              | 71 kB 51.3 MB/s eta 0:00:01\r\u001B[K     |███████████████████▊            | 81 kB 52.4 MB/s eta 0:00:01\r\u001B[K     |██████████████████████▏         | 92 kB 53.5 MB/s eta 0:00:01\r\u001B[K     |████████████████████████▋       | 102 kB 54.3 MB/s eta 0:00:01\r\u001B[K     |███████████████████████████     | 112 kB 54.3 MB/s eta 0:00:01\r\u001B[K     |█████████████████████████████▌  | 122 kB 54.3 MB/s eta 0:00:01\r\u001B[K     |████████████████████████████████| 133 kB 54.3 MB/s \r\n\u001B[?25hCollecting itsdangerous>=2.1.2\r\n  Downloading itsdangerous-2.1.2-py3-none-any.whl (15 kB)\r\nRequirement already satisfied: MarkupSafe>=2.0 in /databricks/python3/lib/python3.9/site-packages (from Jinja2>=3.1.2->Flask->mlflow==1.20.2) (2.0.1)\r\nCollecting MarkupSafe>=2.0\r\n  Downloading MarkupSafe-2.1.3-cp39-cp39-manylinux_2_17_x86_64.manylinux2014_x86_64.whl (25 kB)\r\nRequirement already satisfied: prometheus-client in /databricks/python3/lib/python3.9/site-packages (from prometheus-flask-exporter->mlflow==1.20.2) (0.13.1)\r\nBuilding wheels for collected packages: alembic\r\n  Building wheel for alembic (setup.py) ... \u001B[?25l-\b \b\\\b \b|\b \b/\b \b-\b \b\\\b \b|\b \b/\b \b-\b \b\\\b \b|\b \bdone\r\n\u001B[?25h  Created wheel for alembic: filename=alembic-1.4.1-py2.py3-none-any.whl size=158170 sha256=82ccacb85446d5e30099b76f7b639f6fdc6a0010f0c634ff220ae7ccfab15e2c\r\n  Stored in directory: /root/.cache/pip/wheels/05/12/70/e1473f1aab32af60e9b87f14bbbb745b7c2e86d7f3e5b5742b\r\nSuccessfully built alembic\r\nInstalling collected packages: zipp, MarkupSafe, Werkzeug, typing-extensions, smmap, Jinja2, itsdangerous, importlib-metadata, greenlet, click, blinker, tabulate, sqlalchemy, python-editor, pyjwt, oauthlib, Mako, gitdb, Flask, sqlparse, querystring-parser, pyyaml, prometheus-flask-exporter, gunicorn, gitpython, docker, databricks-cli, cloudpickle, alembic, mlflow\r\n  Attempting uninstall: MarkupSafe\r\n    Found existing installation: MarkupSafe 2.0.1\r\n    Not uninstalling markupsafe at /databricks/python3/lib/python3.9/site-packages, outside environment /local_disk0/.ephemeral_nfs/envs/pythonEnv-872ad178-64dd-480c-8dad-58bb07af4495\r\n    Can't uninstall 'MarkupSafe'. No files were found to uninstall.\r\n  Attempting uninstall: typing-extensions\r\n    Found existing installation: typing-extensions 4.1.1\r\n    Not uninstalling typing-extensions at /databricks/python3/lib/python3.9/site-packages, outside environment /local_disk0/.ephemeral_nfs/envs/pythonEnv-872ad178-64dd-480c-8dad-58bb07af4495\r\n    Can't uninstall 'typing-extensions'. No files were found to uninstall.\r\n  Attempting uninstall: Jinja2\r\n    Found existing installation: Jinja2 2.11.3\r\n    Not uninstalling jinja2 at /databricks/python3/lib/python3.9/site-packages, outside environment /local_disk0/.ephemeral_nfs/envs/pythonEnv-872ad178-64dd-480c-8dad-58bb07af4495\r\n    Can't uninstall 'Jinja2'. No files were found to uninstall.\r\n  Attempting uninstall: click\r\n    Found existing installation: click 8.0.4\r\n    Not uninstalling click at /databricks/python3/lib/python3.9/site-packages, outside environment /local_disk0/.ephemeral_nfs/envs/pythonEnv-872ad178-64dd-480c-8dad-58bb07af4495\r\n    Can't uninstall 'click'. No files were found to uninstall.\r\nSuccessfully installed Flask-3.0.0 Jinja2-3.1.2 Mako-1.3.0 MarkupSafe-2.1.3 Werkzeug-3.0.1 alembic-1.4.1 blinker-1.7.0 click-8.1.7 cloudpickle-3.0.0 databricks-cli-0.18.0 docker-7.0.0 gitdb-4.0.11 gitpython-3.1.40 greenlet-3.0.3 gunicorn-21.2.0 importlib-metadata-7.0.1 itsdangerous-2.1.2 mlflow-1.20.2 oauthlib-3.2.2 prometheus-flask-exporter-0.23.0 pyjwt-2.8.0 python-editor-1.0.4 pyyaml-6.0.1 querystring-parser-1.2.4 smmap-5.0.1 sqlalchemy-2.0.25 sqlparse-0.4.4 tabulate-0.9.0 typing-extensions-4.9.0 zipp-3.17.0\r\n\u001B[33mWARNING: You are using pip version 21.2.4; however, version 23.3.2 is available.\r\nYou should consider upgrading via the '/local_disk0/.ephemeral_nfs/envs/pythonEnv-872ad178-64dd-480c-8dad-58bb07af4495/bin/python -m pip install --upgrade pip' command.\u001B[0m\r\n"
     ]
    }
   ],
   "source": [
    "!pip install mlflow==1.20.2"
   ]
  },
  {
   "cell_type": "code",
   "execution_count": 0,
   "metadata": {
    "application/vnd.databricks.v1+cell": {
     "cellMetadata": {
      "byteLimit": 2048000,
      "rowLimit": 10000
     },
     "inputWidgets": {},
     "nuid": "0314e47b-9117-4285-8b44-9703adc2c857",
     "showTitle": false,
     "title": ""
    }
   },
   "outputs": [
    {
     "output_type": "stream",
     "name": "stdout",
     "output_type": "stream",
     "text": [
      "Python interpreter will be restarted.\nCollecting spark\n  Downloading spark-0.2.1.tar.gz (41 kB)\nBuilding wheels for collected packages: spark\n  Building wheel for spark (setup.py): started\n  Building wheel for spark (setup.py): finished with status 'done'\n  Created wheel for spark: filename=spark-0.2.1-py3-none-any.whl size=58763 sha256=2baac69188e0a15a1f82ca6f52ef0cc805ac49c89de3591eb4446a30f5f4a43f\n  Stored in directory: /root/.cache/pip/wheels/bc/0f/6c/b41528ca0fd4d46513185e90da91bc1c484bba6138641c5a62\nSuccessfully built spark\nInstalling collected packages: spark\nSuccessfully installed spark-0.2.1\nPython interpreter will be restarted.\n"
     ]
    }
   ],
   "source": [
    "pip install spark"
   ]
  },
  {
   "cell_type": "code",
   "execution_count": 0,
   "metadata": {
    "application/vnd.databricks.v1+cell": {
     "cellMetadata": {
      "byteLimit": 2048000,
      "rowLimit": 10000
     },
     "inputWidgets": {},
     "nuid": "84bc428f-76af-43b0-ba5b-b9be37959a3b",
     "showTitle": false,
     "title": ""
    }
   },
   "outputs": [],
   "source": [
    "import numpy as np\n",
    "import pandas as pd\n",
    "import matplotlib #\n",
    "import matplotlib.pyplot as plt\n",
    "import seaborn as sns\n",
    "import sklearn #\n",
    "import spark\n",
    "from sklearn.linear_model import LogisticRegression\n",
    "from sklearn.model_selection import train_test_split\n",
    "from sklearn.preprocessing import StandardScaler\n",
    "from sklearn.metrics import roc_auc_score, plot_roc_curve,confusion_matrix\n",
    "from sklearn.model_selection import KFold\n",
    "import mlflow"
   ]
  },
  {
   "cell_type": "code",
   "execution_count": 0,
   "metadata": {
    "application/vnd.databricks.v1+cell": {
     "cellMetadata": {
      "byteLimit": 2048000,
      "rowLimit": 10000
     },
     "inputWidgets": {},
     "nuid": "654aec93-f936-4345-a75a-c072281a3029",
     "showTitle": false,
     "title": ""
    }
   },
   "outputs": [],
   "source": [
    "from pyspark.sql import SparkSession\n",
    "\n",
    "# Create a Spark session\n",
    "spark = SparkSession.builder.appName(\"example\").getOrCreate()\n",
    "# File location and type\n",
    "file_location = \"/FileStore/tables/creditcard.csv\"\n",
    "file_type = \"csv\"\n",
    "\n",
    "# CSV options\n",
    "infer_schema = \"true\"\n",
    "first_row_is_header = \"true\"\n",
    "delimiter = \",\"\n",
    "\n",
    "# The applied options are for CSV files. For other file types, these will be ignored.\n",
    "dataframe = spark.read.format(file_type) \\\n",
    "  .option(\"inferSchema\", infer_schema) \\\n",
    "  .option(\"header\", first_row_is_header) \\\n",
    "  .option(\"sep\", delimiter) \\\n",
    "  .load(file_location)\n",
    "\n",
    "df=dataframe.toPandas()"
   ]
  },
  {
   "cell_type": "code",
   "execution_count": 0,
   "metadata": {
    "application/vnd.databricks.v1+cell": {
     "cellMetadata": {
      "byteLimit": 2048000,
      "rowLimit": 10000
     },
     "inputWidgets": {},
     "nuid": "bc637a22-410d-4100-8348-3b5369817534",
     "showTitle": false,
     "title": ""
    }
   },
   "outputs": [
    {
     "output_type": "display_data",
     "data": {
      "text/html": [
       "<div>\n",
       "<style scoped>\n",
       "    .dataframe tbody tr th:only-of-type {\n",
       "        vertical-align: middle;\n",
       "    }\n",
       "\n",
       "    .dataframe tbody tr th {\n",
       "        vertical-align: top;\n",
       "    }\n",
       "\n",
       "    .dataframe thead th {\n",
       "        text-align: right;\n",
       "    }\n",
       "</style>\n",
       "<table border=\"1\" class=\"dataframe\">\n",
       "  <thead>\n",
       "    <tr style=\"text-align: right;\">\n",
       "      <th></th>\n",
       "      <th>V1</th>\n",
       "      <th>V2</th>\n",
       "      <th>V3</th>\n",
       "      <th>V4</th>\n",
       "      <th>V5</th>\n",
       "      <th>V6</th>\n",
       "      <th>V7</th>\n",
       "      <th>V8</th>\n",
       "      <th>V9</th>\n",
       "      <th>V10</th>\n",
       "      <th>...</th>\n",
       "      <th>V21</th>\n",
       "      <th>V22</th>\n",
       "      <th>V23</th>\n",
       "      <th>V24</th>\n",
       "      <th>V25</th>\n",
       "      <th>V26</th>\n",
       "      <th>V27</th>\n",
       "      <th>V28</th>\n",
       "      <th>Amount</th>\n",
       "      <th>Class</th>\n",
       "    </tr>\n",
       "  </thead>\n",
       "  <tbody>\n",
       "    <tr>\n",
       "      <th>0</th>\n",
       "      <td>-1.359807</td>\n",
       "      <td>-0.072781</td>\n",
       "      <td>2.536347</td>\n",
       "      <td>1.378155</td>\n",
       "      <td>-0.338321</td>\n",
       "      <td>0.462388</td>\n",
       "      <td>0.239599</td>\n",
       "      <td>0.098698</td>\n",
       "      <td>0.363787</td>\n",
       "      <td>0.090794</td>\n",
       "      <td>...</td>\n",
       "      <td>-0.018307</td>\n",
       "      <td>0.277838</td>\n",
       "      <td>-0.110474</td>\n",
       "      <td>0.066928</td>\n",
       "      <td>0.128539</td>\n",
       "      <td>-0.189115</td>\n",
       "      <td>0.133558</td>\n",
       "      <td>-0.021053</td>\n",
       "      <td>149.62</td>\n",
       "      <td>0</td>\n",
       "    </tr>\n",
       "    <tr>\n",
       "      <th>1</th>\n",
       "      <td>1.191857</td>\n",
       "      <td>0.266151</td>\n",
       "      <td>0.166480</td>\n",
       "      <td>0.448154</td>\n",
       "      <td>0.060018</td>\n",
       "      <td>-0.082361</td>\n",
       "      <td>-0.078803</td>\n",
       "      <td>0.085102</td>\n",
       "      <td>-0.255425</td>\n",
       "      <td>-0.166974</td>\n",
       "      <td>...</td>\n",
       "      <td>-0.225775</td>\n",
       "      <td>-0.638672</td>\n",
       "      <td>0.101288</td>\n",
       "      <td>-0.339846</td>\n",
       "      <td>0.167170</td>\n",
       "      <td>0.125895</td>\n",
       "      <td>-0.008983</td>\n",
       "      <td>0.014724</td>\n",
       "      <td>2.69</td>\n",
       "      <td>0</td>\n",
       "    </tr>\n",
       "    <tr>\n",
       "      <th>2</th>\n",
       "      <td>-1.358354</td>\n",
       "      <td>-1.340163</td>\n",
       "      <td>1.773209</td>\n",
       "      <td>0.379780</td>\n",
       "      <td>-0.503198</td>\n",
       "      <td>1.800499</td>\n",
       "      <td>0.791461</td>\n",
       "      <td>0.247676</td>\n",
       "      <td>-1.514654</td>\n",
       "      <td>0.207643</td>\n",
       "      <td>...</td>\n",
       "      <td>0.247998</td>\n",
       "      <td>0.771679</td>\n",
       "      <td>0.909412</td>\n",
       "      <td>-0.689281</td>\n",
       "      <td>-0.327642</td>\n",
       "      <td>-0.139097</td>\n",
       "      <td>-0.055353</td>\n",
       "      <td>-0.059752</td>\n",
       "      <td>378.66</td>\n",
       "      <td>0</td>\n",
       "    </tr>\n",
       "    <tr>\n",
       "      <th>3</th>\n",
       "      <td>-0.966272</td>\n",
       "      <td>-0.185226</td>\n",
       "      <td>1.792993</td>\n",
       "      <td>-0.863291</td>\n",
       "      <td>-0.010309</td>\n",
       "      <td>1.247203</td>\n",
       "      <td>0.237609</td>\n",
       "      <td>0.377436</td>\n",
       "      <td>-1.387024</td>\n",
       "      <td>-0.054952</td>\n",
       "      <td>...</td>\n",
       "      <td>-0.108300</td>\n",
       "      <td>0.005274</td>\n",
       "      <td>-0.190321</td>\n",
       "      <td>-1.175575</td>\n",
       "      <td>0.647376</td>\n",
       "      <td>-0.221929</td>\n",
       "      <td>0.062723</td>\n",
       "      <td>0.061458</td>\n",
       "      <td>123.50</td>\n",
       "      <td>0</td>\n",
       "    </tr>\n",
       "    <tr>\n",
       "      <th>4</th>\n",
       "      <td>-1.158233</td>\n",
       "      <td>0.877737</td>\n",
       "      <td>1.548718</td>\n",
       "      <td>0.403034</td>\n",
       "      <td>-0.407193</td>\n",
       "      <td>0.095921</td>\n",
       "      <td>0.592941</td>\n",
       "      <td>-0.270533</td>\n",
       "      <td>0.817739</td>\n",
       "      <td>0.753074</td>\n",
       "      <td>...</td>\n",
       "      <td>-0.009431</td>\n",
       "      <td>0.798278</td>\n",
       "      <td>-0.137458</td>\n",
       "      <td>0.141267</td>\n",
       "      <td>-0.206010</td>\n",
       "      <td>0.502292</td>\n",
       "      <td>0.219422</td>\n",
       "      <td>0.215153</td>\n",
       "      <td>69.99</td>\n",
       "      <td>0</td>\n",
       "    </tr>\n",
       "  </tbody>\n",
       "</table>\n",
       "<p>5 rows × 30 columns</p>\n",
       "</div>"
      ]
     },
     "metadata": {
      "application/vnd.databricks.v1+output": {
       "addedWidgets": {},
       "arguments": {},
       "data": "<div>\n<style scoped>\n    .dataframe tbody tr th:only-of-type {\n        vertical-align: middle;\n    }\n\n    .dataframe tbody tr th {\n        vertical-align: top;\n    }\n\n    .dataframe thead th {\n        text-align: right;\n    }\n</style>\n<table border=\"1\" class=\"dataframe\">\n  <thead>\n    <tr style=\"text-align: right;\">\n      <th></th>\n      <th>V1</th>\n      <th>V2</th>\n      <th>V3</th>\n      <th>V4</th>\n      <th>V5</th>\n      <th>V6</th>\n      <th>V7</th>\n      <th>V8</th>\n      <th>V9</th>\n      <th>V10</th>\n      <th>...</th>\n      <th>V21</th>\n      <th>V22</th>\n      <th>V23</th>\n      <th>V24</th>\n      <th>V25</th>\n      <th>V26</th>\n      <th>V27</th>\n      <th>V28</th>\n      <th>Amount</th>\n      <th>Class</th>\n    </tr>\n  </thead>\n  <tbody>\n    <tr>\n      <th>0</th>\n      <td>-1.359807</td>\n      <td>-0.072781</td>\n      <td>2.536347</td>\n      <td>1.378155</td>\n      <td>-0.338321</td>\n      <td>0.462388</td>\n      <td>0.239599</td>\n      <td>0.098698</td>\n      <td>0.363787</td>\n      <td>0.090794</td>\n      <td>...</td>\n      <td>-0.018307</td>\n      <td>0.277838</td>\n      <td>-0.110474</td>\n      <td>0.066928</td>\n      <td>0.128539</td>\n      <td>-0.189115</td>\n      <td>0.133558</td>\n      <td>-0.021053</td>\n      <td>149.62</td>\n      <td>0</td>\n    </tr>\n    <tr>\n      <th>1</th>\n      <td>1.191857</td>\n      <td>0.266151</td>\n      <td>0.166480</td>\n      <td>0.448154</td>\n      <td>0.060018</td>\n      <td>-0.082361</td>\n      <td>-0.078803</td>\n      <td>0.085102</td>\n      <td>-0.255425</td>\n      <td>-0.166974</td>\n      <td>...</td>\n      <td>-0.225775</td>\n      <td>-0.638672</td>\n      <td>0.101288</td>\n      <td>-0.339846</td>\n      <td>0.167170</td>\n      <td>0.125895</td>\n      <td>-0.008983</td>\n      <td>0.014724</td>\n      <td>2.69</td>\n      <td>0</td>\n    </tr>\n    <tr>\n      <th>2</th>\n      <td>-1.358354</td>\n      <td>-1.340163</td>\n      <td>1.773209</td>\n      <td>0.379780</td>\n      <td>-0.503198</td>\n      <td>1.800499</td>\n      <td>0.791461</td>\n      <td>0.247676</td>\n      <td>-1.514654</td>\n      <td>0.207643</td>\n      <td>...</td>\n      <td>0.247998</td>\n      <td>0.771679</td>\n      <td>0.909412</td>\n      <td>-0.689281</td>\n      <td>-0.327642</td>\n      <td>-0.139097</td>\n      <td>-0.055353</td>\n      <td>-0.059752</td>\n      <td>378.66</td>\n      <td>0</td>\n    </tr>\n    <tr>\n      <th>3</th>\n      <td>-0.966272</td>\n      <td>-0.185226</td>\n      <td>1.792993</td>\n      <td>-0.863291</td>\n      <td>-0.010309</td>\n      <td>1.247203</td>\n      <td>0.237609</td>\n      <td>0.377436</td>\n      <td>-1.387024</td>\n      <td>-0.054952</td>\n      <td>...</td>\n      <td>-0.108300</td>\n      <td>0.005274</td>\n      <td>-0.190321</td>\n      <td>-1.175575</td>\n      <td>0.647376</td>\n      <td>-0.221929</td>\n      <td>0.062723</td>\n      <td>0.061458</td>\n      <td>123.50</td>\n      <td>0</td>\n    </tr>\n    <tr>\n      <th>4</th>\n      <td>-1.158233</td>\n      <td>0.877737</td>\n      <td>1.548718</td>\n      <td>0.403034</td>\n      <td>-0.407193</td>\n      <td>0.095921</td>\n      <td>0.592941</td>\n      <td>-0.270533</td>\n      <td>0.817739</td>\n      <td>0.753074</td>\n      <td>...</td>\n      <td>-0.009431</td>\n      <td>0.798278</td>\n      <td>-0.137458</td>\n      <td>0.141267</td>\n      <td>-0.206010</td>\n      <td>0.502292</td>\n      <td>0.219422</td>\n      <td>0.215153</td>\n      <td>69.99</td>\n      <td>0</td>\n    </tr>\n  </tbody>\n</table>\n<p>5 rows × 30 columns</p>\n</div>",
       "datasetInfos": [],
       "metadata": {},
       "removedWidgets": [],
       "textData": null,
       "type": "htmlSandbox"
      }
     },
     "output_type": "display_data"
    }
   ],
   "source": [
    "df = df.drop(\"Time\", axis=1) # cette colonne n'apporte rien à notre analyse \n",
    "df.head()\n",
    "  "
   ]
  },
  {
   "cell_type": "code",
   "execution_count": 0,
   "metadata": {
    "application/vnd.databricks.v1+cell": {
     "cellMetadata": {
      "byteLimit": 2048000,
      "rowLimit": 10000
     },
     "inputWidgets": {},
     "nuid": "7cb1a8ae-f3fa-4ea8-9599-3c698b171f85",
     "showTitle": false,
     "title": ""
    }
   },
   "outputs": [
    {
     "output_type": "stream",
     "name": "stdout",
     "output_type": "stream",
     "text": [
      "Out[8]: <AxesSubplot:xlabel='Class', ylabel='count'>"
     ]
    },
    {
     "output_type": "display_data",
     "data": {
      "image/png": "[encoded data removed]"
     },
     "metadata": {
      "application/vnd.databricks.v1+output": {
       "addedWidgets": {},
       "arguments": {},
       "data": "data:image/png;base64,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\n",
       "datasetInfos": [],
       "metadata": {},
       "removedWidgets": [],
       "type": "image"
      }
     },
     "output_type": "display_data"
    }
   ],
   "source": [
    "sns.countplot(x='Class',data=df)"
   ]
  },
  {
   "cell_type": "code",
   "execution_count": 0,
   "metadata": {
    "application/vnd.databricks.v1+cell": {
     "cellMetadata": {
      "byteLimit": 2048000,
      "rowLimit": 10000
     },
     "inputWidgets": {},
     "nuid": "c8826df7-e677-42d0-9265-e972c3070577",
     "showTitle": false,
     "title": ""
    }
   },
   "outputs": [],
   "source": [
    "normal = df[df.Class == 0].sample(frac=0.5,random_state=2020).reset_index(drop=True)\n",
    "anomaly = df[df.Class == 1]"
   ]
  },
  {
   "cell_type": "code",
   "execution_count": 0,
   "metadata": {
    "application/vnd.databricks.v1+cell": {
     "cellMetadata": {
      "byteLimit": 2048000,
      "rowLimit": 10000
     },
     "inputWidgets": {},
     "nuid": "22ce2fad-b96d-4fe6-ae8e-13e77062932b",
     "showTitle": false,
     "title": ""
    }
   },
   "outputs": [
    {
     "output_type": "stream",
     "name": "stdout",
     "output_type": "stream",
     "text": [
      "Normal: (142158, 30)\nAnomaly: (492, 30)\n"
     ]
    }
   ],
   "source": [
    "print(f\"Normal: {normal.shape}\")\n",
    "print(f\"Anomaly: {anomaly.shape}\")"
   ]
  },
  {
   "cell_type": "code",
   "execution_count": 0,
   "metadata": {
    "application/vnd.databricks.v1+cell": {
     "cellMetadata": {
      "byteLimit": 2048000,
      "rowLimit": 10000
     },
     "inputWidgets": {},
     "nuid": "5d8e4e74-4514-497c-92f5-00870f5c0d60",
     "showTitle": false,
     "title": ""
    }
   },
   "outputs": [],
   "source": [
    "normal_train, normal_test = train_test_split(normal,test_size = 0.2, random_state = 2020)\n",
    "anomaly_train, anomaly_test = train_test_split(anomaly, test_size = 0.2, random_state = 2020)\n",
    "normal_train, normal_validate = train_test_split(normal_train,test_size = 0.25, random_state = 2020)\n",
    "anomaly_train, anomaly_validate = train_test_split(anomaly_train, test_size = 0.25, random_state = 2020)"
   ]
  },
  {
   "cell_type": "code",
   "execution_count": 0,
   "metadata": {
    "application/vnd.databricks.v1+cell": {
     "cellMetadata": {
      "byteLimit": 2048000,
      "rowLimit": 10000
     },
     "inputWidgets": {},
     "nuid": "d8b829c4-0aaa-4731-b522-791c56f36b5d",
     "showTitle": false,
     "title": ""
    }
   },
   "outputs": [],
   "source": [
    "x_train = pd.concat((normal_train, anomaly_train))\n",
    "x_test = pd.concat((normal_test, anomaly_test))\n",
    "x_validate = pd.concat((normal_validate, anomaly_validate))"
   ]
  },
  {
   "cell_type": "code",
   "execution_count": 0,
   "metadata": {
    "application/vnd.databricks.v1+cell": {
     "cellMetadata": {
      "byteLimit": 2048000,
      "rowLimit": 10000
     },
     "inputWidgets": {},
     "nuid": "0f9154fc-e384-4c11-8664-d189b7dd90aa",
     "showTitle": false,
     "title": ""
    }
   },
   "outputs": [],
   "source": [
    "y_train = np.array(x_train[\"Class\"])\n",
    "y_test = np.array(x_test[\"Class\"])\n",
    "y_validate = np.array(x_validate[\"Class\"])"
   ]
  },
  {
   "cell_type": "code",
   "execution_count": 0,
   "metadata": {
    "application/vnd.databricks.v1+cell": {
     "cellMetadata": {
      "byteLimit": 2048000,
      "rowLimit": 10000
     },
     "inputWidgets": {},
     "nuid": "218a641e-5e9c-4204-8bc5-6bb17b3ecf04",
     "showTitle": false,
     "title": ""
    }
   },
   "outputs": [],
   "source": [
    "x_train = x_train.drop(\"Class\", axis=1)\n",
    "x_test = x_test.drop(\"Class\", axis=1)\n",
    "x_validate = x_validate.drop(\"Class\", axis=1)"
   ]
  },
  {
   "cell_type": "code",
   "execution_count": 0,
   "metadata": {
    "application/vnd.databricks.v1+cell": {
     "cellMetadata": {
      "byteLimit": 2048000,
      "rowLimit": 10000
     },
     "inputWidgets": {},
     "nuid": "fce1f6fa-3643-4eb8-a6bf-8ad149712741",
     "showTitle": false,
     "title": ""
    }
   },
   "outputs": [
    {
     "output_type": "stream",
     "name": "stdout",
     "output_type": "stream",
     "text": [
      "Training sets:\nx_train: (85588, 29) \ny_train:(85588,)\n\nTesting sets:\nx_test: (28531, 29) \ny_test:(28531,)\n\nValidation sets:\nx_validate: (28531, 29) \ny_validate: (28531,)\n"
     ]
    }
   ],
   "source": [
    "print(\"Training sets:\\nx_train: {} \\ny_train:{}\".format(x_train.shape, y_train.shape))\n",
    "print(\"\\nTesting sets:\\nx_test: {} \\ny_test:{}\".format(x_test.shape, y_test.shape))\n",
    "print(\"\\nValidation sets:\\nx_validate: {} \\ny_validate: {}\".format(x_validate.shape, y_validate.shape))"
   ]
  },
  {
   "cell_type": "code",
   "execution_count": 0,
   "metadata": {
    "application/vnd.databricks.v1+cell": {
     "cellMetadata": {
      "byteLimit": 2048000,
      "rowLimit": 10000
     },
     "inputWidgets": {},
     "nuid": "f9673742-2221-44a7-87c0-36f5a0d330d3",
     "showTitle": false,
     "title": ""
    }
   },
   "outputs": [
    {
     "output_type": "stream",
     "name": "stdout",
     "output_type": "stream",
     "text": [
      "Out[16]: StandardScaler()"
     ]
    }
   ],
   "source": [
    "scaler = StandardScaler()\n",
    "scaler.fit(pd.concat((normal, anomaly)).drop(\"Class\", axis=1))"
   ]
  },
  {
   "cell_type": "code",
   "execution_count": 0,
   "metadata": {
    "application/vnd.databricks.v1+cell": {
     "cellMetadata": {
      "byteLimit": 2048000,
      "rowLimit": 10000
     },
     "inputWidgets": {},
     "nuid": "c722fc83-a64a-4356-b12f-7fd98db8b79d",
     "showTitle": false,
     "title": ""
    }
   },
   "outputs": [],
   "source": [
    "x_train = scaler.transform(x_train)\n",
    "x_test = scaler.transform(x_test)\n",
    "x_validate = scaler.transform(x_validate)"
   ]
  },
  {
   "cell_type": "code",
   "execution_count": 0,
   "metadata": {
    "application/vnd.databricks.v1+cell": {
     "cellMetadata": {
      "byteLimit": 2048000,
      "rowLimit": 10000
     },
     "inputWidgets": {},
     "nuid": "bfc4d63f-a9c7-4239-8d2c-2819312632ec",
     "showTitle": false,
     "title": ""
    }
   },
   "outputs": [],
   "source": [
    "def train(sk_model, x_train, y_train):\n",
    "    sk_model = sk_model.fit(x_train, y_train)\n",
    "    train_acc = sk_model.score(x_train, y_train)\n",
    "    mlflow.log_metric(\"train_acc\", train_acc)\n",
    "    print(f\"Train Accuracy: {train_acc:.3%}\")"
   ]
  },
  {
   "cell_type": "code",
   "execution_count": 0,
   "metadata": {
    "application/vnd.databricks.v1+cell": {
     "cellMetadata": {
      "byteLimit": 2048000,
      "rowLimit": 10000
     },
     "inputWidgets": {},
     "nuid": "cabf8c63-9946-40f5-a966-3bfa0b14bc3e",
     "showTitle": false,
     "title": ""
    }
   },
   "outputs": [],
   "source": [
    "def evaluate(sk_model, x_test, y_test):\n",
    "    eval_acc = sk_model.score(x_test, y_test)\n",
    "    preds = sk_model.predict(x_test)\n",
    "    auc_score = roc_auc_score(y_test, preds)\n",
    "    mlflow.log_metric(\"eval_acc\", eval_acc) # nous avons fait la même chose pour l'accuracy de test (evaluation)\n",
    "    mlflow.log_metric(\"auc_score\", auc_score)# aussi pour l'AUC score \n",
    "    print(f\"Auc Score: {auc_score:.3%}\")\n",
    "    print(f\"Eval Accuracy: {eval_acc:.3%}\")\n",
    "    roc_plot = plot_roc_curve(sk_model, x_test, y_test,name='Scikit-learn ROC Curve')\n",
    "    plt.savefig(\"sklearn_roc_plot.png\")\n",
    "    plt.show()\n",
    "    plt.clf()\n",
    "    conf_matrix = confusion_matrix(y_test, preds)\n",
    "    ax = sns.heatmap(conf_matrix, annot=True,fmt='g')\n",
    "    ax.invert_xaxis()\n",
    "    ax.invert_yaxis()\n",
    "    plt.ylabel('Actual')\n",
    "    plt.xlabel('Predicted')\n",
    "    plt.title(\"Confusion Matrix\")\n",
    "    plt.savefig(\"sklearn_conf_matrix.png\")\n",
    "    # nous avons dit à MLflow de sauvegarder ces deux figure afin de les consulter à chaque \n",
    "    # exécution d'une façon organisée comme nous allons le voir plus loin dans cet atelier  \n",
    "    mlflow.log_artifact(\"sklearn_roc_plot.png\")\n",
    "    mlflow.log_artifact(\"sklearn_conf_matrix.png\")"
   ]
  },
  {
   "cell_type": "code",
   "execution_count": 0,
   "metadata": {
    "application/vnd.databricks.v1+cell": {
     "cellMetadata": {
      "byteLimit": 2048000,
      "rowLimit": 10000
     },
     "inputWidgets": {},
     "nuid": "7dc551ab-f1ba-4b81-9173-580e0d155318",
     "showTitle": false,
     "title": ""
    }
   },
   "outputs": [
    {
     "output_type": "stream",
     "name": "stdout",
     "output_type": "stream",
     "text": [
      "Wrote 97 bytes.\nOut[20]: True"
     ]
    }
   ],
   "source": [
    "#to configure your DataBricks CLI\n",
    "token = dbutils.notebook.entry_point.getDbutils().notebook().getContext().apiToken().get()\n",
    "dbutils.fs.put(\"file:///root/.databrickscfg\",\"[DEFAULT]\\nhost=https://community.cloud.databricks.com\\ntoken =\"+token,overwrite=True)"
   ]
  },
  {
   "cell_type": "code",
   "execution_count": 0,
   "metadata": {
    "application/vnd.databricks.v1+cell": {
     "cellMetadata": {
      "byteLimit": 2048000,
      "rowLimit": 10000
     },
     "inputWidgets": {},
     "nuid": "ad5ef2cc-cf73-40fc-98ff-a9b4b2750298",
     "showTitle": false,
     "title": ""
    }
   },
   "outputs": [
    {
     "output_type": "stream",
     "name": "stdout",
     "output_type": "stream",
     "text": [
      "Train Accuracy: 99.943%\nAuc Score: 83.833%\nEval Accuracy: 99.877%\n"
     ]
    },
    {
     "output_type": "stream",
     "name": "stderr",
     "output_type": "stream",
     "text": [
      "/databricks/python/lib/python3.9/site-packages/sklearn/utils/deprecation.py:87: FutureWarning: Function plot_roc_curve is deprecated; Function :func:`plot_roc_curve` is deprecated in 1.0 and will be removed in 1.2. Use one of the class methods: :meth:`sklearn.metric.RocCurveDisplay.from_predictions` or :meth:`sklearn.metric.RocCurveDisplay.from_estimator`.\n  warnings.warn(msg, category=FutureWarning)\n"
     ]
    },
    {
     "output_type": "display_data",
     "data": {
      "image/png": "[encoded data removed]"
     },
     "metadata": {
      "application/vnd.databricks.v1+output": {
       "addedWidgets": {},
       "arguments": {},
       "data": "data:image/png;base64,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\n",
       "datasetInfos": [],
       "metadata": {},
       "removedWidgets": [],
       "type": "image"
      }
     },
     "output_type": "display_data"
    },
    {
     "output_type": "stream",
     "name": "stdout",
     "output_type": "stream",
     "text": [
      "Model run:  bbb428d2c20d49c99fbd73c445340c45\n"
     ]
    },
    {
     "output_type": "display_data",
     "data": {
      "image/png": "[encoded data removed]"
     },
     "metadata": {
      "application/vnd.databricks.v1+output": {
       "addedWidgets": {},
       "arguments": {},
       "data": "data:image/png;base64,iVBORw0KGgoAAAANSUhEUgAAAXsAAAEWCAYAAACHVDePAAAAOXRFWHRTb2Z0d2FyZQBNYXRwbG90bGliIHZlcnNpb24zLjUuMSwgaHR0cHM6Ly9tYXRwbG90bGliLm9yZy/YYfK9AAAACXBIWXMAAAsTAAALEwEAmpwYAAAfO0lEQVR4nO3deZyd4/3/8dd7ZpLYyUKaJrGU0IZWEEspjSIL7S+0fgTfyo9U1L61RRcqdFH7XiEpsas1igRBLS1iSRGxpNRXIoIkEhKVWT6/P8416ZHOcmbMzJlz7vfT437Mfa77vq/7OmPyOdf53Nd93YoIzMysvFUUuwFmZtb+HOzNzDLAwd7MLAMc7M3MMsDB3swsAxzszcwywMHevjBJq0q6R9JiSX/+AvUcJOmBtmxbMUi6X9LoYrfDLJ+DfYZIOlDSs5I+kTQvBaVvtUHV+wK9gZ4R8X9bW0lE3BARQ9ugPZ8jaYikkHTnSuVbpvJHC6zn15Kub26/iBgREde2srlm7cLBPiMknQhcCPyWXGBeH7gcGNkG1W8AvB4RNW1QV3v5APimpJ55ZaOB19vqBMrxvynrlPyHmQGS1gbGAUdFxB0RsTQiqiPinoj4adqnm6QLJb2blgsldUvbhkiaI+kkSe+nbwWHpG1nAKcB+6dvDGNW7gFL2jD1oKvS6/8n6U1JH0t6S9JBeeVP5B23o6TpKT00XdKOedselXSmpCdTPQ9I6tXEr2E5cBcwKh1fCewP3LDS7+oiSe9IWiLpOUk7p/LhwM/z3uc/8trxG0lPAsuAr6SyH6XtV0i6Pa/+syVNk6RC//+ZtQUH+2z4JrAKcGcT+/wC2AEYBGwJbAf8Mm/7l4C1gb7AGOAySd0j4nRy3xZuiYg1ImJCUw2RtDpwMTAiItYEdgRmNLBfD+DetG9P4Hzg3pV65gcChwDrAV2BnzR1bmAScHBaHwa8DLy70j7Tyf0OegA3An+WtEpETFnpfW6Zd8wPgbHAmsDbK9V3EvD19EG2M7nf3ejwPCXWwRzss6En8GEzaZaDgHER8X5EfACcQS6I1atO26sj4j7gE2CzVranDthC0qoRMS8iZjawz17AGxFxXUTURMRNwKvA9/L2+VNEvB4RnwK3kgvSjYqIvwE9JG1GLuhPamCf6yNiQTrneUA3mn+f10TEzHRM9Ur1LSP3ezwfuB44JiLmNFOfWZtzsM+GBUCv+jRKI77M53ulb6eyFXWs9GGxDFijpQ2JiKXk0ic/BuZJulfSVwtoT32b+ua9fq8V7bkOOBrYlQa+6Uj6iaRZKXX0EblvM02lhwDeaWpjRDwNvAmI3IeSWYdzsM+GvwOfAXs3sc+75C601luf/05xFGopsFre6y/lb4yIqRGxB9CHXG/9qgLaU9+mua1sU73rgCOB+1Kve4WUZvkZsB/QPSLWARaTC9IAjaVemkzJSDqK3DeEd1P9Zh3OwT4DImIxuYuol0naW9JqkrpIGiHpD2m3m4BfSlo3Xeg8jVzaoTVmALtIWj9dHD61foOk3pJGptz9Z+TSQXUN1HEfsGkaLlolaX9gIPCXVrYJgIh4C/g2uWsUK1sTqCE3cqdK0mnAWnnb5wMbtmTEjaRNgbOA/yGXzvmZpEGta71Z6znYZ0TKP59I7qLrB+RSD0eTG6ECuYD0LPAi8BLwfCprzbkeBG5JdT3H5wN0RWrHu8BCcoH3iAbqWAB8l9wFzgXkesTfjYgPW9Omlep+IiIa+tYyFZhCbjjm28C/+XyKpv6GsQWSnm/uPCltdj1wdkT8IyLeIDei57r6kU5mHUUeFGBmVv7cszczywAHezOzDHCwNzPLAAd7M7MMaOomm6Kq6trXV47NrCA1y+d+4bmGqj98s+CY06XXV0pubqNOG+zNzDpUXW2xW9CuHOzNzACioXv7yoeDvZkZQJ2DvZlZ2Qv37M3MMqC2Mz9o7YtzsDczA1+gNTPLBKdxzMwywBdozczKny/QmpllgXv2ZmYZUFvd/D4lzMHezAx8gdbMLBOcxjEzywD37M3MMsA9ezOz8hd1vkBrZlb+3LM3M8sA5+zNzDLAE6GZmWWAe/ZmZhngnL2ZWQaU+cNLKordADOzTqGurvClCZL6S3pE0iuSZko6LpX/WtJcSTPSsmfeMadKmi3pNUnD8sqHp7LZkk7JK99I0tOp/BZJXZt7ew72ZmZARG3BSzNqgJMiYiCwA3CUpIFp2wURMSgt9wGkbaOAzYHhwOWSKiVVApcBI4CBwAF59Zyd6toEWASMaa5RDvZmZtBmPfuImBcRz6f1j4FZQN8mDhkJ3BwRn0XEW8BsYLu0zI6INyNiOXAzMFKSgO8At6XjrwX2bu7tOdibmUFuNE6hS4EkbQhsBTydio6W9KKkiZK6p7K+wDt5h81JZY2V9wQ+ioialcqb5GBvZgYt6tlLGivp2bxl7MrVSVoDuB04PiKWAFcAGwODgHnAeR359jwax8wMWjQaJyLGA+Mb2y6pC7lAf0NE3JGOmZ+3/SrgL+nlXKB/3uH9UhmNlC8A1pFUlXr3+fs3yj17MzNoszROyqlPAGZFxPl55X3ydtsHeDmtTwZGSeomaSNgAPAMMB0YkEbedCV3EXdyRATwCLBvOn40cHdzb889ezMzaMubqnYCfgi8JGlGKvs5udE0g4AA/gUcDhARMyXdCrxCbiTPUZGG/Eg6GpgKVAITI2Jmqu9k4GZJZwEvkPtwaZJyHxKdT1XXvp2zYWbW6dQsn6svWsen915YcMxZda/jv/D5Opp79mZm4LlxzMwyocynS3CwNzMDT4RmZpYJTuOYmWWAe/ZmZhngYG9mlgGddBh6W3GwNzMDqPFoHDOz8ucLtGZmGeCcvZlZBjhnb2aWAe7Zm5llgIO9mVn5i9pmHyRe0hzszczAPXszs0zw0Eszswyo82gcM7Py5zSOmVkG+AKtdbS1116L8Veey+abb0ZEcNhhJ3HssT9i0003BmCdtdfio8VLGLzt0CK31DpKt27dePTh2+narRtVVZXccce9nDHuPCZdewnbbLMl1dXVTJ8+gyOOPJmaMp/jpd24Z28d7YLzxzF16iPsP2osXbp0YbXVVuXAg45Ysf2cs09j8ZIlRWyhdbTPPvuM3Yfux9Kly6iqquKxR+9kypRHuOmmOzl49DEAXH/dZYw59ECuHD+pyK0tUc7ZW0daa6012flb23PomOMBqK6uZvHi6s/ts+++32OPYfsVoXVWTEuXLgOgS5cqqrp0ISK4f8rDK7ZPnz6Dfv36FKt5pa/MR+NUFLsB9nkbbbQ+H364gAlXX8D0Z6Zy5R/PYbXVVl2xfedvbc/89z9g9uy3ithKK4aKigqenf4A8+a+yLRpj/HM9BdWbKuqquKgg37A1KmPFLGFJa4uCl9KUIcHe0mHNLFtrKRnJT1bV7e0I5vVaVRVVrLVVl/nyisnse12w1i6dBkn/+zoFdv3339vbrnl7iK20Iqlrq6OwdsOZYONBrPt4K3YfPPNVmy79JLf8vjjT/PEk88UsYWlLerqCl5KUTF69mc0tiEixkfE4IgYXFGxeke2qdOYM3cec+bMW9Fru+OOe9lq0NcBqKysZJ+9R3DrnycXs4lWZIsXL+HRvz7JsKFDAPjVL09g3XV78pOf/rqo7Sp5tbWFLyWoXXL2kl5sbBPQuz3OWS7mz/+AOXPeZdNNN+b11//Jd77zLWbNeh2A3Xfbmddem83cufOK3ErraL169aC6uobFi5ewyiqrsPtuu3DOuZdz6CEHMHSPIewxbH+izKfobXclmp4pVHtdoO0NDAMWrVQu4G/tdM6ycdwJv2LStZfQtWsX3nrrfxnzoxMB2G+/kdzsFE4m9enTm4kTLqSysoKKigpuu+0e7r3vIf697G3efnsOTzye+7Z31133cdZvLixuY0tViaZnCqX26A1ImgD8KSKeaGDbjRFxYHN1VHXtW94fs2bWZmqWz9UXrWPpaaMKjjmrj7v5C5+vo7VLzz4ixjSxrdlAb2bW4cp86KXH2ZuZQdnn7D3O3swMiJragpemSOov6RFJr0iaKem4VN5D0oOS3kg/u6dySbpY0mxJL0raOq+u0Wn/NySNzivfRtJL6ZiLJTWbVnKwNzODtrypqgY4KSIGAjsAR0kaCJwCTIuIAcC09BpgBDAgLWOBKyD34QCcDmwPbAecXv8BkfY5LO+44c01ysHezAxyOftCl6aqiZgXEc+n9Y+BWUBfYCRwbdrtWmDvtD4SmBQ5TwHrSOpDbkTjgxGxMCIWAQ8Cw9O2tSLiqciNsJmUV1ejHOzNzKBFPfv8u/3TMrahKiVtCGwFPA30joj6m2Te4z/3HPUF3sk7bE4qa6p8TgPlTfIFWjMzIFpwgTYixgPjm9pH0hrA7cDxEbEkP60eESGpQ68Iu2dvZgZQU1v40gxJXcgF+hsi4o5UPD+lYEg/30/lc4H+eYf3S2VNlfdroLxJDvZmZtBmF2jTyJgJwKyIOD9v02SgfkTNaODuvPKD06icHYDFKd0zFRgqqXu6MDsUmJq2LZG0QzrXwXl1NcppHDMzaMtx9jsBPwRekjQjlf0c+D1wq6QxwNtA/UMp7gP2BGYDy4BDACJioaQzgelpv3ERsTCtHwlcA6wK3J+WJrXLdAltwdMlmFmh2mK6hCWHDys45qx15VRPl2BmVpLK/A5aB3szM3CwNzPLgqjxRGhmZuWvvGO9g72ZGbTspqpS5GBvZgbO2ZuZZYLTOGZm5c9pHDOzDIgaB3szs/LnNI6ZWfkr8+eNO9ibmQHu2ZuZZYF79mZmGRA1xW5B+3KwNzPDPXszs0xwsDczy4IoueeRtIiDvZkZ7tmbmWVC1Llnb2ZW9upqHezNzMqe0zhmZhngNI6ZWQZEeU966WBvZgbu2ZuZZYIv0JqZZUBme/aSLgEazWJFxLHt0iIzsyKIDN9B+2yHtcLMrMgyO/QyIq7tyIaYmRVTXZn37Cua20HSupLOlXSfpIfrl45onJlZR4lQwUtzJE2U9L6kl/PKfi1prqQZadkzb9upkmZLek3SsLzy4alstqRT8so3kvR0Kr9FUtfm2tRssAduAGYBGwFnAP8CphdwnJlZyairVcFLAa4BhjdQfkFEDErLfQCSBgKjgM3TMZdLqpRUCVwGjAAGAgekfQHOTnVtAiwCxjTXoEKCfc+ImABUR8RfI+JQ4DsFHGdmVjKiTgUvzdYV8RiwsMBTjwRujojPIuItYDawXVpmR8SbEbEcuBkYKUnkYvBt6fhrgb2bO0khwb46/ZwnaS9JWwE9CnwTZmYloS5U8CJprKRn85axBZ7maEkvpjRP91TWF3gnb585qayx8p7ARxErHqRYX96kQsbZnyVpbeAk4BJgLeCEAo4zMysZLRl6GRHjgfEtPMUVwJnkhrSfCZwHHNrCOlqt2WAfEX9Jq4uBXdu3OWZmxdHec+NExPz6dUlXAfWxdS7QP2/XfqmMRsoXAOtIqkq9+/z9G9VssJf0Jxq4uSrl7s3MykJ7D72U1Cci5qWX+wD1I3UmAzdKOh/4MjAAeAYQMEDSRuSC+SjgwIgISY8A+5LL448G7m7u/IWkcf6St75KauS7BRxnZlYy6tpwugRJNwFDgF6S5gCnA0MkDSLXef4XcDhARMyUdCvwClADHBURtameo4GpQCUwMSJmplOcDNws6SzgBWBCs22KFn53kVQBPBERO7bowBaq6tq3zCccNbO2UrN87heO1M/227vgmDN4zl0ldwdWayZCGwCs19YNMSvEp+8+XuwmWJnK8tw4AEj6mM/n7N8j9xXCzKxslPt0CYWMxlmzIxpiZlZM5Z43LmRunGmFlJmZlbLauoqCl1LU1Hz2qwCrkbua3J3cMCDI3VTV7N1aZmalpMxnOG4yjXM4cDy5cZ/P8Z9gvwS4tH2bZWbWsYKM5uwj4iLgIknHRMQlHdgmM7MOV1fmSftCkk91ktapfyGpu6Qj269JZmYdrw4VvJSiQoL9YRHxUf2LiFgEHNZuLTIzK4JABS+lqJCbqiolKdKttmlC/WafimJmVkpqSzSIF6qQYD8FuEXSlen14cD97dckM7OOl+XROPVOBsYCP06vXwS+1G4tMjMrgnIP9s3m7COiDnia3Cxt25F7HNas9m2WmVnHymzOXtKmwAFp+RC4BSAi/AATMys7bTjDcafUVBrnVeBx4LsRMRtAkh9HaGZlqVSHVBaqqTTO94F5wCOSrpK0G5T5b8PMMqu2BUspajTYR8RdETEK+CrwCLmpE9aTdIWkoR3UPjOzDlEnFbyUokIu0C6NiBsj4nvkHmz7Ap7P3szKTLRgKUUtmqszIhZFxPiI2K29GmRmVgx1LVhKUWseS2hmVnayPBrHzCwzPF2CmVkGuGdvZpYBpZqLL5SDvZkZpTvKplAO9mZmOI1jZpYJTuOYmWVArXv2Zmblzz17M7MMKPdg36LpEszMylVbzo0jaaKk9yW9nFfWQ9KDkt5IP7unckm6WNJsSS9K2jrvmNFp/zckjc4r30bSS+mYi6XmZ2dzsDczIzcap9ClANcAw1cqOwWYFhEDgGnpNcAIYEBaxgJXQO7DATgd2J7cUwJPr/+ASPsclnfcyuf6Lw72Zma07URoEfEYsHCl4pHAtWn9WmDvvPJJkfMUsI6kPsAw4MGIWBgRi4AHgeFp21oR8VREBDApr65GOdibmdGyh5dIGivp2bxlbAGn6B0R89L6e0DvtN4XeCdvvzmprKnyOQ2UN8kXaM3MaNlNVRExHhjf2nNFREjq0Jt23bM3M6ND5rOfn1IwpJ/vp/K5QP+8/fqlsqbK+zVQ3iQHezMzOuRJVZOB+hE1o4G788oPTqNydgAWp3TPVGCopO7pwuxQYGratkTSDmkUzsF5dTXKaRwzM6CuDadCk3QTMAToJWkOuVE1vwdulTQGeBvYL+1+H7AnMBtYBhwCEBELJZ0JTE/7jYuI+ou+R5Ib8bMqcH9amuRgb2ZG7sJrW4mIAxrZ9F+PdE0jao5qpJ6JwMQGyp8FtmhJmxzszcwo/ztoHezNzPAUx2ZmmdCWOfvOyMHezAw/qcrMLBOcszczy4DaMu/bO9ibmeGevZlZJvgCrZlZBpR3qHewNzMDnMYxM8sEX6A1M8sA5+ytaLp168ajD99O127dqKqq5I477uWMcecVu1nWhubN/4Cfn3kuCxYtQoh9R47gh/vtzauv/5Nx51zCZ8urqays5Fc/OYqvD9xsxXEvzXqN/zn8RM454xSG7rozr77+T84891I+WbqMisoKxh48ihG7fxuAp5+bwbmXXk11dQ0DN9uEcaeeQFVVZbHecqdV3qHewb5T++yzz9h96H4sXbqMqqoqHnv0TqZMeYSnn3m+2E2zNlJVWclPjzmMgZttwtKly9hvzLHsuO1WnHf5BI449CB2/ua2PPa3Zzjv8glcc+kfAKitreWCy//EjttuvaKeVVbpxm9/9RM26N+X9z9YwH5jjmGn7bdhjdVX4+dnnceEi37Hhuv349KrJnH3/Q/xg+8NK9Zb7rTKvWfvh5d0ckuXLgOgS5cqqrp0ITcbqpWLdXv1YOBmmwCw+uqr8ZUN+jP/gwVI4pP0//6TpctYr1fPFcfceNtk9hiyEz26r7OibMP1+7FB/9xjSNdbtyc9uq/Doo8W89HiJXSpqmLD9XMPNvrmtlvz0KNPdNC7Ky0d8KSqomq3nr2kr5J7anr9g3DnApMjYlZ7nbMcVVRU8MzTU9hk4w254o/X8Mz0F4rdJGsnc+fNZ9Yb/+Qbm2/GyccdzuEn/pJzL7uaqAuuvzKXvpv/wYdMe+xvTLzkbF6e9XqD9bz0ymtUV9fQv28fJFFbW8fLs15ni69tygOPPsF773/YkW+rZIR79i0n6WTgZkDAM2kRcJOkU5o4bsUT2+vqlrZH00pOXV0dg7cdygYbDWbbwVux+eabNX+QlZxlyz7lhF+cxcnHHs4aq6/OLXfey8nHjGXandfxs2PHctrvLgTg7Iuu5IQjDqWiouF/uh98uJBTx53DWT8/gYqKCiRxzrhT+MPF4xn1o+NYfbVVGz0262qJgpdS1F49+zHA5hFRnV8o6XxgJrnHc/2X/Ce2V3XtW5q/0XayePESHv3rkwwbOoSZM18rdnOsDVXX1HD8L85ir6G7sseQnQCYfP9DnHr8jwEY9p2dOf33FwIw89U3+OnpuX8+ixYv4fG/T6eyspLddtmRT5Yu5cifnsaxh49myy2+tqL+QVt8jUlXnAvAk08/x9vvNPts6kwq1fRModor2NcBXyb3nMV8fSj/32mb6dWrB9XVNSxevIRVVlmF3XfbhXPOvbzYzbI2FBGc9rsL+coG/Rk96vsrytft1ZPpL7zEdlt/g6efm7EiHz/1tmtW7POLs87j2zttx2677Eh1dTXHnXom/2f4bgzddefPnWPBoo/o2X0dli9fzsQb/szY0aM65L2Vmroyvx7WXsH+eGCapDeAd1LZ+sAmwNHtdM6y06dPbyZOuJDKygoqKiq47bZ7uPe+h4rdLGtDL7w4k3umTGPAxhvyg9G5x5Aed/hozjj5WH5/0ZXU1NbSrWtXTv/ZsU3WM+Xhx3luxst8tPhj7kp/I7/5xYl8ddON+dMNt/HXvz1D1NWx/z57sf02g9r7bZWk8g71oPYa3SGpAtiOz1+gnR4RBT3X12kca8in7z5e7CZYJ9Sl11e+8EMFD9xgn4Jjzo1v31lyDzFst9E4EVEHPNVe9ZuZtaVyH43jm6rMzIAaB3szs/Lnnr2ZWQaU+zBBB3szMyj7qUgc7M3MKP+J0Bzszczww0vMzDKh3Hv2nhHJzIxczr7QpTmS/iXpJUkzJD2bynpIelDSG+ln91QuSRdLmi3pRUlb59UzOu3/hqTRX+T9OdibmdEu89nvGhGDImJwen0KMC0iBgDT0muAEcCAtIwFroDchwNwOrA9udkITq//gGgNB3szM3Lj7Av9r5VGAtem9WuBvfPKJ0XOU8A6kvoAw4AHI2JhRCwCHgSGt/bkDvZmZuRy9oUuBQjgAUnPSRqbynpHxLy0/h7QO6335T8TRgLMSWWNlbeKL9CamQG1UXiCJgXwsXlF49PzOOp9KyLmSloPeFDSq/nHR0RI6tArwg72Zma0bLqE/ActNbJ9bvr5vqQ7yeXc50vqExHzUprm/bT7XKB/3uH9UtlcYMhK5Y8W3MiVOI1jZkbu4SWFLk2RtLqkNevXgaHAy8BkoH5EzWjg7rQ+GTg4jcrZAVic0j1TgaGSuqcLs0NTWau4Z29mRps+vKQ3cKckyMXYGyNiiqTpwK2SxpB7it9+af/7gD2B2cAy4BCAiFgo6UxgetpvXEQsbG2jHOzNzGi7m6oi4k1gywbKFwC7NVAewFGN1DURmNgW7XKwNzOj/O+gdbA3M6Nlo3FKkYO9mRl+eImZWSZ4Pnszswxwzt7MLAPcszczy4DaMn8KrYO9mRk0e2dsqXOwNzPDo3HMzDLBPXszswxwz97MLAPcszczywBPl2BmlgFO45iZZUC4Z29mVv48XYKZWQZ4ugQzswxwz97MLANq65yzNzMrex6NY2aWAc7Zm5llgHP2ZmYZ4J69mVkG+AKtmVkGOI1jZpYBTuOYmWWApzg2M8sAj7M3M8sA9+zNzDKgzlMcm5mVP1+gNTPLAAd7M7MMKO9QDyr3T7NyIGlsRIwvdjusc/HfhbVERbEbYAUZW+wGWKfkvwsrmIO9mVkGONibmWWAg31pcF7WGuK/CyuYL9CamWWAe/ZmZhngYG9mlgEO9p2YpImS3pf0crHbYp2LpOGSXpM0W9IpxW6PdX4O9p3bNcDwYjfCOhdJlcBlwAhgIHCApIHFbZV1dg72nVhEPAYsLHY7rNPZDpgdEW9GxHLgZmBkkdtknZyDvVnp6Qu8k/d6Tioza5SDvZlZBjjYm5WeuUD/vNf9UplZoxzszUrPdGCApI0kdQVGAZOL3Cbr5BzsOzFJNwF/BzaTNEfSmGK3yYovImqAo4GpwCzg1oiYWdxWWWfn6RLMzDLAPXszswxwsDczywAHezOzDHCwNzPLAAd7M7MMcLC3diGpVtIMSS9L+rOk1b5AXddI2jetX93UpF+ShkjasRXn+JekXq1to1ln52Bv7eXTiBgUEVsAy4Ef52+UVNWaSiPiRxHxShO7DAFaHOzNyp2DvXWEx4FNUq/7cUmTgVckVUo6R9J0SS9KOhxAOZem+dofAtarr0jSo5IGp/Xhkp6X9A9J0yRtSO5D5YT0rWJnSetKuj2dY7qkndKxPSU9IGmmpKsBdfDvxKxDtap3ZVao1IMfAUxJRVsDW0TEW5LGAosjYltJ3YAnJT0AbAVsRm6u9t7AK8DElepdF7gK2CXV1SMiFkr6I/BJRJyb9rsRuCAinpC0Prm7Tr8GnA48ERHjJO0F+O5kK2sO9tZeVpU0I60/Dkwgl155JiLeSuVDgW/U5+OBtYEBwC7ATRFRC7wr6eEG6t8BeKy+rohobN7/3YGB0oqO+1qS1kjn+H469l5Ji1r3Ns1Kg4O9tZdPI2JQfkEKuEvzi4BjImLqSvvt2YbtqAB2iIh/N9AWs8xwzt6KaSpwhKQuAJI2lbQ68Biwf8rp9wF2beDYp4BdJG2Uju2Ryj8G1szb7wHgmPoXkgal1ceAA1PZCKB7W70ps87Iwd6K6Wpy+fjn00PVryT3bfNO4I20bRK5mT8/JyI+AMYCd0j6B3BL2nQPsE/9BVrgWGBwugD8Cv8ZFXQGuQ+LmeTSOf/bTu/RrFPwrJdmZhngnr2ZWQY42JuZZYCDvZlZBjjYm5llgIO9mVkGONibmWWAg72ZWQb8f3Ym4ByvL8ChAAAAAElFTkSuQmCC\n",
       "datasetInfos": [],
       "metadata": {},
       "removedWidgets": [],
       "type": "image"
      }
     },
     "output_type": "display_data"
    }
   ],
   "source": [
    "#sk_model = LogisticRegression(random_state=None,max_iter=10, solver='newton-cg')\n",
    "from sklearn import svm\n",
    "sk_model = svm.SVC()\n",
    "mlflow.set_experiment(\"/Users/mouradezzebdi@gmail.com/scikit_learn_experiment1\")\n",
    "with mlflow.start_run():\n",
    "    train(sk_model, x_train, y_train)\n",
    "    evaluate(sk_model, x_test, y_test)\n",
    "    mlflow.sklearn.log_model(sk_model, \"svm_model\")\n",
    "    print(\"Model run: \", mlflow.active_run().info.run_uuid)\n",
    "mlflow.end_run()"
   ]
  },
  {
   "cell_type": "code",
   "execution_count": 0,
   "metadata": {
    "application/vnd.databricks.v1+cell": {
     "cellMetadata": {
      "byteLimit": 2048000,
      "rowLimit": 10000
     },
     "inputWidgets": {},
     "nuid": "3413c518-1432-486b-89d1-31de2aadbbf5",
     "showTitle": false,
     "title": ""
    }
   },
   "outputs": [
    {
     "output_type": "display_data",
     "data": {
      "text/html": [
       "<style scoped>\n",
       "  .ansiout {\n",
       "    display: block;\n",
       "    unicode-bidi: embed;\n",
       "    white-space: pre-wrap;\n",
       "    word-wrap: break-word;\n",
       "    word-break: break-all;\n",
       "    font-family: \"Menlo\", \"Monaco\", \"Consolas\", \"Ubuntu Mono\", \"Source Code Pro\", monospace;\n",
       "    font-size: 13px;\n",
       "    color: #555;\n",
       "    margin-left: 4px;\n",
       "    line-height: 19px;\n",
       "  }\n",
       "</style>"
      ]
     },
     "metadata": {
      "application/vnd.databricks.v1+output": {
       "arguments": {},
       "data": "",
       "errorSummary": "Cancelled",
       "errorTraceType": "html",
       "metadata": {},
       "type": "ipynbError"
      }
     },
     "output_type": "display_data"
    }
   ],
   "source": [
    "\n",
    "# define evaluation\n",
    "'''\n",
    "# define search space\n",
    "from sklearn.model_selection import RepeatedStratifiedKFold\n",
    "from sklearn.model_selection import RandomizedSearchCV\n",
    "from scipy.stats import loguniform\n",
    "# summarize result\n",
    "#print('Best Score: %s' % result.best_score_)\n",
    "#print('Best Hyperparameters: %s' % result.best_params_)\n",
    "\n",
    "model = LogisticRegression()\n",
    "cv = RepeatedStratifiedKFold(n_splits=10, n_repeats=3, random_state=1)\n",
    "space = dict()\n",
    "space['solver'] = ['newton-cg', 'lbfgs', 'liblinear']\n",
    "space['penalty'] = ['none', 'l1', 'l2', 'elasticnet']\n",
    "space['C'] = loguniform(1e-5, 100)\n",
    "mlflow.set_experiment(\"/Users/mouradezzebdi@gmail.com/scikit_learn_experiment1\")\n",
    "with mlflow.start_run():\n",
    "    search = RandomizedSearchCV(model, space, n_iter=500, scoring='accuracy', n_jobs=-1, cv=cv, random_state=1)\n",
    "    sk_model = search.fit(x_train, y_train)\n",
    "    train(sk_model, x_train, y_train)\n",
    "    evaluate(sk_model, x_test, y_test)\n",
    "    mlflow.sklearn.log_model(sk_model, \"log_reg_model\")\n",
    "    print(\"Model run: \", mlflow.active_run().info.run_uuid)\n",
    "mlflow.end_run()\n",
    "'''\n",
    "\n",
    "import mlflow\n",
    "import mlflow.sklearn\n",
    "from sklearn.model_selection import RepeatedStratifiedKFold, RandomizedSearchCV\n",
    "from sklearn.svm import SVC\n",
    "from scipy.stats import loguniform\n",
    "space = dict()\n",
    "space['C'] = loguniform(1e-5, 100)\n",
    "space['kernel'] = ['linear', 'poly', 'rbf', 'sigmoid']\n",
    "space['gamma'] = ['scale', 'auto'] + list(loguniform(1e-5, 1e-1).rvs(10))\n",
    "\n",
    "cv = RepeatedStratifiedKFold(n_splits=10, n_repeats=3, random_state=1)\n",
    "\n",
    "model = SVC()\n",
    "mlflow.set_experiment(\"/Users/mouradezzebdi@gmail.com/scikit_learn_experiment1\")\n",
    "with mlflow.start_run():\n",
    "    # Perform Randomized Search\n",
    "    search = RandomizedSearchCV(model, space, n_iter=500, scoring='accuracy', n_jobs=-1, cv=cv, random_state=1)\n",
    "    sk_model = search.fit(x_train, y_train)\n",
    "    \n",
    "    train(sk_model, x_train, y_train)\n",
    "    evaluate(sk_model, x_test, y_test)\n",
    "    \n",
    "    mlflow.sklearn.log_model(sk_model, \"svm_model\")\n",
    "\n",
    "    print(\"Model run: \", mlflow.active_run().info.run_uuid)\n",
    "\n",
    "# End MLflow run\n",
    "mlflow.end_run()\n"
   ]
  },
  {
   "cell_type": "code",
   "execution_count": 0,
   "metadata": {
    "application/vnd.databricks.v1+cell": {
     "cellMetadata": {
      "byteLimit": 2048000,
      "rowLimit": 10000
     },
     "inputWidgets": {},
     "nuid": "484c7e86-82b2-4fea-aacf-15612b24dff7",
     "showTitle": false,
     "title": ""
    }
   },
   "outputs": [
    {
     "output_type": "display_data",
     "data": {
      "text/html": [
       "<style scoped>\n",
       "  .ansiout {\n",
       "    display: block;\n",
       "    unicode-bidi: embed;\n",
       "    white-space: pre-wrap;\n",
       "    word-wrap: break-word;\n",
       "    word-break: break-all;\n",
       "    font-family: \"Menlo\", \"Monaco\", \"Consolas\", \"Ubuntu Mono\", \"Source Code Pro\", monospace;\n",
       "    font-size: 13px;\n",
       "    color: #555;\n",
       "    margin-left: 4px;\n",
       "    line-height: 19px;\n",
       "  }\n",
       "</style>"
      ]
     },
     "metadata": {
      "application/vnd.databricks.v1+output": {
       "arguments": {},
       "data": "",
       "errorSummary": "Cancelled",
       "errorTraceType": "html",
       "metadata": {},
       "type": "ipynbError"
      }
     },
     "output_type": "display_data"
    }
   ],
   "source": [
    "all_runs = mlflow.search_runs(max_results=10)  # Note : This is pandas dataframe\n",
    "display(all_runs)"
   ]
  },
  {
   "cell_type": "markdown",
   "metadata": {
    "application/vnd.databricks.v1+cell": {
     "cellMetadata": {},
     "inputWidgets": {},
     "nuid": "52230943-0dd9-4d07-b541-d5fcd525da8f",
     "showTitle": false,
     "title": ""
    }
   },
   "source": [
    "TAF: \n",
    "\n",
    "1. réexécutez la cellule 18 en utilisant d'autres modèle ML de SKlearn \n",
    "2. comparez vos résultats en utilisant l'outil de comparaison de MLFlow"
   ]
  },
  {
   "cell_type": "code",
   "execution_count": 0,
   "metadata": {
    "application/vnd.databricks.v1+cell": {
     "cellMetadata": {},
     "inputWidgets": {},
     "nuid": "557e4e7f-be3a-41d1-ab3b-7b8c1d8f6983",
     "showTitle": false,
     "title": ""
    }
   },
   "outputs": [],
   "source": []
  }
 ],
 "metadata": {
  "application/vnd.databricks.v1+notebook": {
   "dashboards": [],
   "language": "python",
   "notebookMetadata": {
    "pythonIndentUnit": 2
   },
   "notebookName": "5. MLflow-DataBricks",
   "widgets": {}
  },
  "kernelspec": {
   "display_name": "Python 3 (ipykernel)",
   "language": "python",
   "name": "python3"
  },
  "language_info": {
   "codemirror_mode": {
    "name": "ipython",
    "version": 3
   },
   "file_extension": ".py",
   "mimetype": "text/x-python",
   "name": "python",
   "nbconvert_exporter": "python",
   "pygments_lexer": "ipython3",
   "version": "3.7.13"
  }
 },
 "nbformat": 4,
 "nbformat_minor": 0
}
